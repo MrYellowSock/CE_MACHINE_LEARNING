{
 "cells": [
  {
   "cell_type": "code",
   "execution_count": 1,
   "metadata": {},
   "outputs": [],
   "source": [
    "import pandas as pd\n",
    "from sklearn.metrics import mean_absolute_error,mean_squared_error,r2_score\n",
    "from sklearn.ensemble import RandomForestRegressor\n",
    "from sklearn.preprocessing import StandardScaler\n",
    "from sklearn.model_selection import GridSearchCV\n",
    "from sklearn.model_selection import train_test_split\n",
    "from xgboost import XGBRegressor\n",
    "from sklearn.linear_model import LinearRegression\n",
    "import numpy as np"
   ]
  },
  {
   "cell_type": "code",
   "execution_count": 2,
   "metadata": {},
   "outputs": [
    {
     "data": {
      "text/html": [
       "<div>\n",
       "<style scoped>\n",
       "    .dataframe tbody tr th:only-of-type {\n",
       "        vertical-align: middle;\n",
       "    }\n",
       "\n",
       "    .dataframe tbody tr th {\n",
       "        vertical-align: top;\n",
       "    }\n",
       "\n",
       "    .dataframe thead th {\n",
       "        text-align: right;\n",
       "    }\n",
       "</style>\n",
       "<table border=\"1\" class=\"dataframe\">\n",
       "  <thead>\n",
       "    <tr style=\"text-align: right;\">\n",
       "      <th></th>\n",
       "      <th>&lt;DATE&gt;</th>\n",
       "      <th>&lt;TIME&gt;</th>\n",
       "      <th>&lt;OPEN&gt;</th>\n",
       "      <th>&lt;HIGH&gt;</th>\n",
       "      <th>&lt;LOW&gt;</th>\n",
       "      <th>&lt;CLOSE&gt;</th>\n",
       "      <th>&lt;TICKVOL&gt;</th>\n",
       "      <th>&lt;VOL&gt;</th>\n",
       "      <th>&lt;SPREAD&gt;</th>\n",
       "    </tr>\n",
       "  </thead>\n",
       "  <tbody>\n",
       "    <tr>\n",
       "      <th>0</th>\n",
       "      <td>2014.01.02</td>\n",
       "      <td>09:00:00</td>\n",
       "      <td>1225.05</td>\n",
       "      <td>1228.42</td>\n",
       "      <td>1220.52</td>\n",
       "      <td>1222.86</td>\n",
       "      <td>3523</td>\n",
       "      <td>0</td>\n",
       "      <td>0</td>\n",
       "    </tr>\n",
       "    <tr>\n",
       "      <th>1</th>\n",
       "      <td>2014.01.02</td>\n",
       "      <td>10:00:00</td>\n",
       "      <td>1222.86</td>\n",
       "      <td>1223.91</td>\n",
       "      <td>1219.66</td>\n",
       "      <td>1221.65</td>\n",
       "      <td>2353</td>\n",
       "      <td>0</td>\n",
       "      <td>0</td>\n",
       "    </tr>\n",
       "    <tr>\n",
       "      <th>2</th>\n",
       "      <td>2014.01.02</td>\n",
       "      <td>11:00:00</td>\n",
       "      <td>1221.66</td>\n",
       "      <td>1221.96</td>\n",
       "      <td>1219.10</td>\n",
       "      <td>1221.26</td>\n",
       "      <td>2038</td>\n",
       "      <td>0</td>\n",
       "      <td>0</td>\n",
       "    </tr>\n",
       "    <tr>\n",
       "      <th>3</th>\n",
       "      <td>2014.01.02</td>\n",
       "      <td>12:00:00</td>\n",
       "      <td>1221.29</td>\n",
       "      <td>1221.83</td>\n",
       "      <td>1219.26</td>\n",
       "      <td>1221.25</td>\n",
       "      <td>1500</td>\n",
       "      <td>0</td>\n",
       "      <td>0</td>\n",
       "    </tr>\n",
       "    <tr>\n",
       "      <th>4</th>\n",
       "      <td>2014.01.02</td>\n",
       "      <td>13:00:00</td>\n",
       "      <td>1221.25</td>\n",
       "      <td>1221.46</td>\n",
       "      <td>1216.51</td>\n",
       "      <td>1217.95</td>\n",
       "      <td>2973</td>\n",
       "      <td>0</td>\n",
       "      <td>0</td>\n",
       "    </tr>\n",
       "    <tr>\n",
       "      <th>...</th>\n",
       "      <td>...</td>\n",
       "      <td>...</td>\n",
       "      <td>...</td>\n",
       "      <td>...</td>\n",
       "      <td>...</td>\n",
       "      <td>...</td>\n",
       "      <td>...</td>\n",
       "      <td>...</td>\n",
       "      <td>...</td>\n",
       "    </tr>\n",
       "    <tr>\n",
       "      <th>58880</th>\n",
       "      <td>2023.12.07</td>\n",
       "      <td>04:00:00</td>\n",
       "      <td>2026.08</td>\n",
       "      <td>2029.87</td>\n",
       "      <td>2026.04</td>\n",
       "      <td>2028.95</td>\n",
       "      <td>3594</td>\n",
       "      <td>0</td>\n",
       "      <td>30</td>\n",
       "    </tr>\n",
       "    <tr>\n",
       "      <th>58881</th>\n",
       "      <td>2023.12.07</td>\n",
       "      <td>05:00:00</td>\n",
       "      <td>2028.90</td>\n",
       "      <td>2029.78</td>\n",
       "      <td>2026.36</td>\n",
       "      <td>2026.76</td>\n",
       "      <td>3409</td>\n",
       "      <td>0</td>\n",
       "      <td>26</td>\n",
       "    </tr>\n",
       "    <tr>\n",
       "      <th>58882</th>\n",
       "      <td>2023.12.07</td>\n",
       "      <td>06:00:00</td>\n",
       "      <td>2026.70</td>\n",
       "      <td>2026.95</td>\n",
       "      <td>2025.24</td>\n",
       "      <td>2025.92</td>\n",
       "      <td>2731</td>\n",
       "      <td>0</td>\n",
       "      <td>26</td>\n",
       "    </tr>\n",
       "    <tr>\n",
       "      <th>58883</th>\n",
       "      <td>2023.12.07</td>\n",
       "      <td>07:00:00</td>\n",
       "      <td>2025.83</td>\n",
       "      <td>2027.23</td>\n",
       "      <td>2025.11</td>\n",
       "      <td>2026.66</td>\n",
       "      <td>3197</td>\n",
       "      <td>0</td>\n",
       "      <td>26</td>\n",
       "    </tr>\n",
       "    <tr>\n",
       "      <th>58884</th>\n",
       "      <td>2023.12.07</td>\n",
       "      <td>08:00:00</td>\n",
       "      <td>2026.72</td>\n",
       "      <td>2029.07</td>\n",
       "      <td>2026.15</td>\n",
       "      <td>2027.52</td>\n",
       "      <td>2919</td>\n",
       "      <td>0</td>\n",
       "      <td>26</td>\n",
       "    </tr>\n",
       "  </tbody>\n",
       "</table>\n",
       "<p>58885 rows × 9 columns</p>\n",
       "</div>"
      ],
      "text/plain": [
       "           <DATE>    <TIME>   <OPEN>   <HIGH>    <LOW>  <CLOSE>  <TICKVOL>  \\\n",
       "0      2014.01.02  09:00:00  1225.05  1228.42  1220.52  1222.86       3523   \n",
       "1      2014.01.02  10:00:00  1222.86  1223.91  1219.66  1221.65       2353   \n",
       "2      2014.01.02  11:00:00  1221.66  1221.96  1219.10  1221.26       2038   \n",
       "3      2014.01.02  12:00:00  1221.29  1221.83  1219.26  1221.25       1500   \n",
       "4      2014.01.02  13:00:00  1221.25  1221.46  1216.51  1217.95       2973   \n",
       "...           ...       ...      ...      ...      ...      ...        ...   \n",
       "58880  2023.12.07  04:00:00  2026.08  2029.87  2026.04  2028.95       3594   \n",
       "58881  2023.12.07  05:00:00  2028.90  2029.78  2026.36  2026.76       3409   \n",
       "58882  2023.12.07  06:00:00  2026.70  2026.95  2025.24  2025.92       2731   \n",
       "58883  2023.12.07  07:00:00  2025.83  2027.23  2025.11  2026.66       3197   \n",
       "58884  2023.12.07  08:00:00  2026.72  2029.07  2026.15  2027.52       2919   \n",
       "\n",
       "       <VOL>  <SPREAD>  \n",
       "0          0         0  \n",
       "1          0         0  \n",
       "2          0         0  \n",
       "3          0         0  \n",
       "4          0         0  \n",
       "...      ...       ...  \n",
       "58880      0        30  \n",
       "58881      0        26  \n",
       "58882      0        26  \n",
       "58883      0        26  \n",
       "58884      0        26  \n",
       "\n",
       "[58885 rows x 9 columns]"
      ]
     },
     "execution_count": 2,
     "metadata": {},
     "output_type": "execute_result"
    }
   ],
   "source": [
    "df = pd.read_csv('./GOLD_H1_201401020900_202312070800.csv',sep='\\t')\n",
    "df"
   ]
  },
  {
   "cell_type": "code",
   "execution_count": 3,
   "metadata": {},
   "outputs": [
    {
     "data": {
      "text/plain": [
       "Index(['<DATE>', '<TIME>', '<OPEN>', '<HIGH>', '<LOW>', '<CLOSE>', '<TICKVOL>',\n",
       "       '<VOL>', '<SPREAD>'],\n",
       "      dtype='object')"
      ]
     },
     "execution_count": 3,
     "metadata": {},
     "output_type": "execute_result"
    }
   ],
   "source": [
    "df.columns"
   ]
  },
  {
   "cell_type": "code",
   "execution_count": 4,
   "metadata": {},
   "outputs": [
    {
     "data": {
      "text/html": [
       "<div>\n",
       "<style scoped>\n",
       "    .dataframe tbody tr th:only-of-type {\n",
       "        vertical-align: middle;\n",
       "    }\n",
       "\n",
       "    .dataframe tbody tr th {\n",
       "        vertical-align: top;\n",
       "    }\n",
       "\n",
       "    .dataframe thead th {\n",
       "        text-align: right;\n",
       "    }\n",
       "</style>\n",
       "<table border=\"1\" class=\"dataframe\">\n",
       "  <thead>\n",
       "    <tr style=\"text-align: right;\">\n",
       "      <th></th>\n",
       "      <th>&lt;OPEN&gt;</th>\n",
       "      <th>&lt;HIGH&gt;</th>\n",
       "      <th>&lt;LOW&gt;</th>\n",
       "      <th>&lt;CLOSE&gt;</th>\n",
       "      <th>&lt;TICKVOL&gt;</th>\n",
       "      <th>&lt;VOL&gt;</th>\n",
       "      <th>&lt;SPREAD&gt;</th>\n",
       "    </tr>\n",
       "  </thead>\n",
       "  <tbody>\n",
       "    <tr>\n",
       "      <th>count</th>\n",
       "      <td>58885.000000</td>\n",
       "      <td>58885.000000</td>\n",
       "      <td>58885.000000</td>\n",
       "      <td>58885.000000</td>\n",
       "      <td>58885.000000</td>\n",
       "      <td>5.888500e+04</td>\n",
       "      <td>58885.000000</td>\n",
       "    </tr>\n",
       "    <tr>\n",
       "      <th>mean</th>\n",
       "      <td>1486.987253</td>\n",
       "      <td>1488.787756</td>\n",
       "      <td>1485.156028</td>\n",
       "      <td>1487.002351</td>\n",
       "      <td>4387.026730</td>\n",
       "      <td>5.616019e+13</td>\n",
       "      <td>30.835561</td>\n",
       "    </tr>\n",
       "    <tr>\n",
       "      <th>std</th>\n",
       "      <td>291.542513</td>\n",
       "      <td>292.010318</td>\n",
       "      <td>291.025572</td>\n",
       "      <td>291.548730</td>\n",
       "      <td>4309.246894</td>\n",
       "      <td>2.763920e+14</td>\n",
       "      <td>11.246721</td>\n",
       "    </tr>\n",
       "    <tr>\n",
       "      <th>min</th>\n",
       "      <td>1049.960000</td>\n",
       "      <td>1050.580000</td>\n",
       "      <td>1046.290000</td>\n",
       "      <td>1049.960000</td>\n",
       "      <td>1.000000</td>\n",
       "      <td>0.000000e+00</td>\n",
       "      <td>0.000000</td>\n",
       "    </tr>\n",
       "    <tr>\n",
       "      <th>25%</th>\n",
       "      <td>1245.190000</td>\n",
       "      <td>1246.470000</td>\n",
       "      <td>1244.010000</td>\n",
       "      <td>1245.190000</td>\n",
       "      <td>1674.000000</td>\n",
       "      <td>0.000000e+00</td>\n",
       "      <td>25.000000</td>\n",
       "    </tr>\n",
       "    <tr>\n",
       "      <th>50%</th>\n",
       "      <td>1327.810000</td>\n",
       "      <td>1329.130000</td>\n",
       "      <td>1326.510000</td>\n",
       "      <td>1327.800000</td>\n",
       "      <td>3215.000000</td>\n",
       "      <td>0.000000e+00</td>\n",
       "      <td>32.000000</td>\n",
       "    </tr>\n",
       "    <tr>\n",
       "      <th>75%</th>\n",
       "      <td>1792.230000</td>\n",
       "      <td>1794.170000</td>\n",
       "      <td>1790.290000</td>\n",
       "      <td>1792.250000</td>\n",
       "      <td>5495.000000</td>\n",
       "      <td>0.000000e+00</td>\n",
       "      <td>38.000000</td>\n",
       "    </tr>\n",
       "    <tr>\n",
       "      <th>max</th>\n",
       "      <td>2117.400000</td>\n",
       "      <td>2144.630000</td>\n",
       "      <td>2090.600000</td>\n",
       "      <td>2117.370000</td>\n",
       "      <td>102129.000000</td>\n",
       "      <td>4.009700e+15</td>\n",
       "      <td>397.000000</td>\n",
       "    </tr>\n",
       "  </tbody>\n",
       "</table>\n",
       "</div>"
      ],
      "text/plain": [
       "             <OPEN>        <HIGH>         <LOW>       <CLOSE>      <TICKVOL>  \\\n",
       "count  58885.000000  58885.000000  58885.000000  58885.000000   58885.000000   \n",
       "mean    1486.987253   1488.787756   1485.156028   1487.002351    4387.026730   \n",
       "std      291.542513    292.010318    291.025572    291.548730    4309.246894   \n",
       "min     1049.960000   1050.580000   1046.290000   1049.960000       1.000000   \n",
       "25%     1245.190000   1246.470000   1244.010000   1245.190000    1674.000000   \n",
       "50%     1327.810000   1329.130000   1326.510000   1327.800000    3215.000000   \n",
       "75%     1792.230000   1794.170000   1790.290000   1792.250000    5495.000000   \n",
       "max     2117.400000   2144.630000   2090.600000   2117.370000  102129.000000   \n",
       "\n",
       "              <VOL>      <SPREAD>  \n",
       "count  5.888500e+04  58885.000000  \n",
       "mean   5.616019e+13     30.835561  \n",
       "std    2.763920e+14     11.246721  \n",
       "min    0.000000e+00      0.000000  \n",
       "25%    0.000000e+00     25.000000  \n",
       "50%    0.000000e+00     32.000000  \n",
       "75%    0.000000e+00     38.000000  \n",
       "max    4.009700e+15    397.000000  "
      ]
     },
     "execution_count": 4,
     "metadata": {},
     "output_type": "execute_result"
    }
   ],
   "source": [
    "df.describe()"
   ]
  },
  {
   "cell_type": "code",
   "execution_count": 5,
   "metadata": {},
   "outputs": [
    {
     "data": {
      "image/png": "[encoded data removed]",
      "text/plain": [
       "<Figure size 640x480 with 2 Axes>"
      ]
     },
     "metadata": {},
     "output_type": "display_data"
    }
   ],
   "source": [
    "import seaborn as sns\n",
    "import matplotlib.pyplot as plt\n",
    "\n",
    "correlation_matrix = df.drop([\"<DATE>\", \"<TIME>\"], axis=1).corr()\n",
    "sns.heatmap(correlation_matrix, annot=True, cmap='coolwarm')\n",
    "plt.title('Correlation Matrix')\n",
    "plt.show()\n"
   ]
  },
  {
   "cell_type": "code",
   "execution_count": 6,
   "metadata": {},
   "outputs": [
    {
     "data": {
      "text/plain": [
       "<DATE>       0\n",
       "<TIME>       0\n",
       "<OPEN>       0\n",
       "<HIGH>       0\n",
       "<LOW>        0\n",
       "<CLOSE>      0\n",
       "<TICKVOL>    0\n",
       "<VOL>        0\n",
       "<SPREAD>     0\n",
       "dtype: int64"
      ]
     },
     "execution_count": 6,
     "metadata": {},
     "output_type": "execute_result"
    }
   ],
   "source": [
    "df.isnull().sum()"
   ]
  },
  {
   "cell_type": "code",
   "execution_count": 7,
   "metadata": {},
   "outputs": [
    {
     "name": "stdout",
     "output_type": "stream",
     "text": [
      "<DATE> 2565\n",
      "<TIME> 24\n",
      "<OPEN> 37646\n",
      "<HIGH> 37691\n",
      "<LOW> 37842\n",
      "<CLOSE> 37667\n",
      "<TICKVOL> 13119\n",
      "<VOL> 2765\n",
      "<SPREAD> 148\n"
     ]
    }
   ],
   "source": [
    "for column in df.columns:\n",
    "    print(column, df[column].nunique())"
   ]
  },
  {
   "cell_type": "code",
   "execution_count": 8,
   "metadata": {},
   "outputs": [
    {
     "data": {
      "text/html": [
       "<div>\n",
       "<style scoped>\n",
       "    .dataframe tbody tr th:only-of-type {\n",
       "        vertical-align: middle;\n",
       "    }\n",
       "\n",
       "    .dataframe tbody tr th {\n",
       "        vertical-align: top;\n",
       "    }\n",
       "\n",
       "    .dataframe thead th {\n",
       "        text-align: right;\n",
       "    }\n",
       "</style>\n",
       "<table border=\"1\" class=\"dataframe\">\n",
       "  <thead>\n",
       "    <tr style=\"text-align: right;\">\n",
       "      <th></th>\n",
       "      <th>&lt;DATE&gt;</th>\n",
       "      <th>&lt;TIME&gt;</th>\n",
       "      <th>&lt;OPEN&gt;</th>\n",
       "      <th>&lt;HIGH&gt;</th>\n",
       "      <th>&lt;LOW&gt;</th>\n",
       "      <th>&lt;CLOSE&gt;</th>\n",
       "      <th>&lt;TICKVOL&gt;</th>\n",
       "      <th>&lt;VOL&gt;</th>\n",
       "      <th>&lt;SPREAD&gt;</th>\n",
       "    </tr>\n",
       "  </thead>\n",
       "  <tbody>\n",
       "    <tr>\n",
       "      <th>49735</th>\n",
       "      <td>2022.05.24</td>\n",
       "      <td>06:00:00</td>\n",
       "      <td>1850.82</td>\n",
       "      <td>1855.83</td>\n",
       "      <td>1850.71</td>\n",
       "      <td>1855.67</td>\n",
       "      <td>2564</td>\n",
       "      <td>0</td>\n",
       "      <td>25</td>\n",
       "    </tr>\n",
       "    <tr>\n",
       "      <th>40255</th>\n",
       "      <td>2020.10.13</td>\n",
       "      <td>18:00:00</td>\n",
       "      <td>1892.31</td>\n",
       "      <td>1895.41</td>\n",
       "      <td>1889.95</td>\n",
       "      <td>1894.57</td>\n",
       "      <td>5246</td>\n",
       "      <td>0</td>\n",
       "      <td>33</td>\n",
       "    </tr>\n",
       "    <tr>\n",
       "      <th>42560</th>\n",
       "      <td>2021.03.08</td>\n",
       "      <td>02:00:00</td>\n",
       "      <td>1707.53</td>\n",
       "      <td>1708.01</td>\n",
       "      <td>1704.99</td>\n",
       "      <td>1706.86</td>\n",
       "      <td>3445</td>\n",
       "      <td>0</td>\n",
       "      <td>35</td>\n",
       "    </tr>\n",
       "    <tr>\n",
       "      <th>49638</th>\n",
       "      <td>2022.05.18</td>\n",
       "      <td>01:00:00</td>\n",
       "      <td>1814.55</td>\n",
       "      <td>1815.61</td>\n",
       "      <td>1814.01</td>\n",
       "      <td>1814.32</td>\n",
       "      <td>1135</td>\n",
       "      <td>0</td>\n",
       "      <td>25</td>\n",
       "    </tr>\n",
       "    <tr>\n",
       "      <th>38748</th>\n",
       "      <td>2020.07.14</td>\n",
       "      <td>02:00:00</td>\n",
       "      <td>1802.46</td>\n",
       "      <td>1802.46</td>\n",
       "      <td>1800.98</td>\n",
       "      <td>1802.31</td>\n",
       "      <td>931</td>\n",
       "      <td>0</td>\n",
       "      <td>36</td>\n",
       "    </tr>\n",
       "    <tr>\n",
       "      <th>20401</th>\n",
       "      <td>2017.05.31</td>\n",
       "      <td>18:00:00</td>\n",
       "      <td>1267.07</td>\n",
       "      <td>1268.30</td>\n",
       "      <td>1266.37</td>\n",
       "      <td>1267.45</td>\n",
       "      <td>20452</td>\n",
       "      <td>2045199999979548</td>\n",
       "      <td>40</td>\n",
       "    </tr>\n",
       "    <tr>\n",
       "      <th>16657</th>\n",
       "      <td>2016.10.11</td>\n",
       "      <td>04:00:00</td>\n",
       "      <td>1256.53</td>\n",
       "      <td>1258.65</td>\n",
       "      <td>1255.99</td>\n",
       "      <td>1258.65</td>\n",
       "      <td>4614</td>\n",
       "      <td>0</td>\n",
       "      <td>40</td>\n",
       "    </tr>\n",
       "    <tr>\n",
       "      <th>26871</th>\n",
       "      <td>2018.07.06</td>\n",
       "      <td>03:00:00</td>\n",
       "      <td>1257.20</td>\n",
       "      <td>1257.72</td>\n",
       "      <td>1256.27</td>\n",
       "      <td>1256.68</td>\n",
       "      <td>3443</td>\n",
       "      <td>0</td>\n",
       "      <td>30</td>\n",
       "    </tr>\n",
       "    <tr>\n",
       "      <th>23723</th>\n",
       "      <td>2017.12.20</td>\n",
       "      <td>20:00:00</td>\n",
       "      <td>1266.46</td>\n",
       "      <td>1266.81</td>\n",
       "      <td>1265.22</td>\n",
       "      <td>1265.53</td>\n",
       "      <td>8793</td>\n",
       "      <td>0</td>\n",
       "      <td>40</td>\n",
       "    </tr>\n",
       "    <tr>\n",
       "      <th>35118</th>\n",
       "      <td>2019.11.28</td>\n",
       "      <td>03:00:00</td>\n",
       "      <td>1457.49</td>\n",
       "      <td>1458.05</td>\n",
       "      <td>1456.60</td>\n",
       "      <td>1457.12</td>\n",
       "      <td>1538</td>\n",
       "      <td>0</td>\n",
       "      <td>28</td>\n",
       "    </tr>\n",
       "  </tbody>\n",
       "</table>\n",
       "</div>"
      ],
      "text/plain": [
       "           <DATE>    <TIME>   <OPEN>   <HIGH>    <LOW>  <CLOSE>  <TICKVOL>  \\\n",
       "49735  2022.05.24  06:00:00  1850.82  1855.83  1850.71  1855.67       2564   \n",
       "40255  2020.10.13  18:00:00  1892.31  1895.41  1889.95  1894.57       5246   \n",
       "42560  2021.03.08  02:00:00  1707.53  1708.01  1704.99  1706.86       3445   \n",
       "49638  2022.05.18  01:00:00  1814.55  1815.61  1814.01  1814.32       1135   \n",
       "38748  2020.07.14  02:00:00  1802.46  1802.46  1800.98  1802.31        931   \n",
       "20401  2017.05.31  18:00:00  1267.07  1268.30  1266.37  1267.45      20452   \n",
       "16657  2016.10.11  04:00:00  1256.53  1258.65  1255.99  1258.65       4614   \n",
       "26871  2018.07.06  03:00:00  1257.20  1257.72  1256.27  1256.68       3443   \n",
       "23723  2017.12.20  20:00:00  1266.46  1266.81  1265.22  1265.53       8793   \n",
       "35118  2019.11.28  03:00:00  1457.49  1458.05  1456.60  1457.12       1538   \n",
       "\n",
       "                  <VOL>  <SPREAD>  \n",
       "49735                 0        25  \n",
       "40255                 0        33  \n",
       "42560                 0        35  \n",
       "49638                 0        25  \n",
       "38748                 0        36  \n",
       "20401  2045199999979548        40  \n",
       "16657                 0        40  \n",
       "26871                 0        30  \n",
       "23723                 0        40  \n",
       "35118                 0        28  "
      ]
     },
     "execution_count": 8,
     "metadata": {},
     "output_type": "execute_result"
    }
   ],
   "source": [
    "df.sample(10)"
   ]
  },
  {
   "cell_type": "markdown",
   "metadata": {},
   "source": [
    "## Merge date and time"
   ]
  },
  {
   "cell_type": "code",
   "execution_count": 9,
   "metadata": {},
   "outputs": [
    {
     "data": {
      "text/html": [
       "<div>\n",
       "<style scoped>\n",
       "    .dataframe tbody tr th:only-of-type {\n",
       "        vertical-align: middle;\n",
       "    }\n",
       "\n",
       "    .dataframe tbody tr th {\n",
       "        vertical-align: top;\n",
       "    }\n",
       "\n",
       "    .dataframe thead th {\n",
       "        text-align: right;\n",
       "    }\n",
       "</style>\n",
       "<table border=\"1\" class=\"dataframe\">\n",
       "  <thead>\n",
       "    <tr style=\"text-align: right;\">\n",
       "      <th></th>\n",
       "      <th>&lt;OPEN&gt;</th>\n",
       "      <th>&lt;HIGH&gt;</th>\n",
       "      <th>&lt;LOW&gt;</th>\n",
       "      <th>&lt;CLOSE&gt;</th>\n",
       "      <th>&lt;TICKVOL&gt;</th>\n",
       "      <th>&lt;VOL&gt;</th>\n",
       "      <th>&lt;SPREAD&gt;</th>\n",
       "    </tr>\n",
       "    <tr>\n",
       "      <th>&lt;DATETIME&gt;</th>\n",
       "      <th></th>\n",
       "      <th></th>\n",
       "      <th></th>\n",
       "      <th></th>\n",
       "      <th></th>\n",
       "      <th></th>\n",
       "      <th></th>\n",
       "    </tr>\n",
       "  </thead>\n",
       "  <tbody>\n",
       "    <tr>\n",
       "      <th>2014-01-02 09:00:00</th>\n",
       "      <td>1225.05</td>\n",
       "      <td>1228.42</td>\n",
       "      <td>1220.52</td>\n",
       "      <td>1222.86</td>\n",
       "      <td>3523</td>\n",
       "      <td>0</td>\n",
       "      <td>0</td>\n",
       "    </tr>\n",
       "    <tr>\n",
       "      <th>2014-01-02 10:00:00</th>\n",
       "      <td>1222.86</td>\n",
       "      <td>1223.91</td>\n",
       "      <td>1219.66</td>\n",
       "      <td>1221.65</td>\n",
       "      <td>2353</td>\n",
       "      <td>0</td>\n",
       "      <td>0</td>\n",
       "    </tr>\n",
       "    <tr>\n",
       "      <th>2014-01-02 11:00:00</th>\n",
       "      <td>1221.66</td>\n",
       "      <td>1221.96</td>\n",
       "      <td>1219.10</td>\n",
       "      <td>1221.26</td>\n",
       "      <td>2038</td>\n",
       "      <td>0</td>\n",
       "      <td>0</td>\n",
       "    </tr>\n",
       "    <tr>\n",
       "      <th>2014-01-02 12:00:00</th>\n",
       "      <td>1221.29</td>\n",
       "      <td>1221.83</td>\n",
       "      <td>1219.26</td>\n",
       "      <td>1221.25</td>\n",
       "      <td>1500</td>\n",
       "      <td>0</td>\n",
       "      <td>0</td>\n",
       "    </tr>\n",
       "    <tr>\n",
       "      <th>2014-01-02 13:00:00</th>\n",
       "      <td>1221.25</td>\n",
       "      <td>1221.46</td>\n",
       "      <td>1216.51</td>\n",
       "      <td>1217.95</td>\n",
       "      <td>2973</td>\n",
       "      <td>0</td>\n",
       "      <td>0</td>\n",
       "    </tr>\n",
       "    <tr>\n",
       "      <th>...</th>\n",
       "      <td>...</td>\n",
       "      <td>...</td>\n",
       "      <td>...</td>\n",
       "      <td>...</td>\n",
       "      <td>...</td>\n",
       "      <td>...</td>\n",
       "      <td>...</td>\n",
       "    </tr>\n",
       "    <tr>\n",
       "      <th>2023-12-07 04:00:00</th>\n",
       "      <td>2026.08</td>\n",
       "      <td>2029.87</td>\n",
       "      <td>2026.04</td>\n",
       "      <td>2028.95</td>\n",
       "      <td>3594</td>\n",
       "      <td>0</td>\n",
       "      <td>30</td>\n",
       "    </tr>\n",
       "    <tr>\n",
       "      <th>2023-12-07 05:00:00</th>\n",
       "      <td>2028.90</td>\n",
       "      <td>2029.78</td>\n",
       "      <td>2026.36</td>\n",
       "      <td>2026.76</td>\n",
       "      <td>3409</td>\n",
       "      <td>0</td>\n",
       "      <td>26</td>\n",
       "    </tr>\n",
       "    <tr>\n",
       "      <th>2023-12-07 06:00:00</th>\n",
       "      <td>2026.70</td>\n",
       "      <td>2026.95</td>\n",
       "      <td>2025.24</td>\n",
       "      <td>2025.92</td>\n",
       "      <td>2731</td>\n",
       "      <td>0</td>\n",
       "      <td>26</td>\n",
       "    </tr>\n",
       "    <tr>\n",
       "      <th>2023-12-07 07:00:00</th>\n",
       "      <td>2025.83</td>\n",
       "      <td>2027.23</td>\n",
       "      <td>2025.11</td>\n",
       "      <td>2026.66</td>\n",
       "      <td>3197</td>\n",
       "      <td>0</td>\n",
       "      <td>26</td>\n",
       "    </tr>\n",
       "    <tr>\n",
       "      <th>2023-12-07 08:00:00</th>\n",
       "      <td>2026.72</td>\n",
       "      <td>2029.07</td>\n",
       "      <td>2026.15</td>\n",
       "      <td>2027.52</td>\n",
       "      <td>2919</td>\n",
       "      <td>0</td>\n",
       "      <td>26</td>\n",
       "    </tr>\n",
       "  </tbody>\n",
       "</table>\n",
       "<p>58885 rows × 7 columns</p>\n",
       "</div>"
      ],
      "text/plain": [
       "                      <OPEN>   <HIGH>    <LOW>  <CLOSE>  <TICKVOL>  <VOL>  \\\n",
       "<DATETIME>                                                                  \n",
       "2014-01-02 09:00:00  1225.05  1228.42  1220.52  1222.86       3523      0   \n",
       "2014-01-02 10:00:00  1222.86  1223.91  1219.66  1221.65       2353      0   \n",
       "2014-01-02 11:00:00  1221.66  1221.96  1219.10  1221.26       2038      0   \n",
       "2014-01-02 12:00:00  1221.29  1221.83  1219.26  1221.25       1500      0   \n",
       "2014-01-02 13:00:00  1221.25  1221.46  1216.51  1217.95       2973      0   \n",
       "...                      ...      ...      ...      ...        ...    ...   \n",
       "2023-12-07 04:00:00  2026.08  2029.87  2026.04  2028.95       3594      0   \n",
       "2023-12-07 05:00:00  2028.90  2029.78  2026.36  2026.76       3409      0   \n",
       "2023-12-07 06:00:00  2026.70  2026.95  2025.24  2025.92       2731      0   \n",
       "2023-12-07 07:00:00  2025.83  2027.23  2025.11  2026.66       3197      0   \n",
       "2023-12-07 08:00:00  2026.72  2029.07  2026.15  2027.52       2919      0   \n",
       "\n",
       "                     <SPREAD>  \n",
       "<DATETIME>                     \n",
       "2014-01-02 09:00:00         0  \n",
       "2014-01-02 10:00:00         0  \n",
       "2014-01-02 11:00:00         0  \n",
       "2014-01-02 12:00:00         0  \n",
       "2014-01-02 13:00:00         0  \n",
       "...                       ...  \n",
       "2023-12-07 04:00:00        30  \n",
       "2023-12-07 05:00:00        26  \n",
       "2023-12-07 06:00:00        26  \n",
       "2023-12-07 07:00:00        26  \n",
       "2023-12-07 08:00:00        26  \n",
       "\n",
       "[58885 rows x 7 columns]"
      ]
     },
     "execution_count": 9,
     "metadata": {},
     "output_type": "execute_result"
    }
   ],
   "source": [
    "def convert_datetime(df):\n",
    "    df['<DATETIME>'] = pd.to_datetime(df['<DATE>'] + ' ' + df['<TIME>'], format='%Y.%m.%d %H:%M:%S')\n",
    "    df = df.drop([\"<DATE>\", \"<TIME>\"], axis=1)\n",
    "    return df\n",
    "\n",
    "df = convert_datetime(df)\n",
    "df.set_index('<DATETIME>', inplace=True)\n",
    "df"
   ]
  },
  {
   "cell_type": "markdown",
   "metadata": {},
   "source": [
    "## Bad and unwanted column"
   ]
  },
  {
   "cell_type": "code",
   "execution_count": 10,
   "metadata": {},
   "outputs": [
    {
     "data": {
      "text/html": [
       "<div>\n",
       "<style scoped>\n",
       "    .dataframe tbody tr th:only-of-type {\n",
       "        vertical-align: middle;\n",
       "    }\n",
       "\n",
       "    .dataframe tbody tr th {\n",
       "        vertical-align: top;\n",
       "    }\n",
       "\n",
       "    .dataframe thead th {\n",
       "        text-align: right;\n",
       "    }\n",
       "</style>\n",
       "<table border=\"1\" class=\"dataframe\">\n",
       "  <thead>\n",
       "    <tr style=\"text-align: right;\">\n",
       "      <th></th>\n",
       "      <th>&lt;OPEN&gt;</th>\n",
       "      <th>&lt;HIGH&gt;</th>\n",
       "      <th>&lt;LOW&gt;</th>\n",
       "      <th>&lt;CLOSE&gt;</th>\n",
       "      <th>&lt;TICKVOL&gt;</th>\n",
       "      <th>&lt;VOL&gt;</th>\n",
       "      <th>&lt;SPREAD&gt;</th>\n",
       "    </tr>\n",
       "    <tr>\n",
       "      <th>&lt;DATETIME&gt;</th>\n",
       "      <th></th>\n",
       "      <th></th>\n",
       "      <th></th>\n",
       "      <th></th>\n",
       "      <th></th>\n",
       "      <th></th>\n",
       "      <th></th>\n",
       "    </tr>\n",
       "  </thead>\n",
       "  <tbody>\n",
       "    <tr>\n",
       "      <th>2017-02-02 16:00:00</th>\n",
       "      <td>1223.52</td>\n",
       "      <td>1223.60</td>\n",
       "      <td>1219.85</td>\n",
       "      <td>1221.47</td>\n",
       "      <td>18611</td>\n",
       "      <td>1329499999986705</td>\n",
       "      <td>40</td>\n",
       "    </tr>\n",
       "    <tr>\n",
       "      <th>2017-02-02 17:00:00</th>\n",
       "      <td>1221.42</td>\n",
       "      <td>1221.87</td>\n",
       "      <td>1216.15</td>\n",
       "      <td>1216.76</td>\n",
       "      <td>23109</td>\n",
       "      <td>2310899999976891</td>\n",
       "      <td>40</td>\n",
       "    </tr>\n",
       "    <tr>\n",
       "      <th>2017-02-02 18:00:00</th>\n",
       "      <td>1216.78</td>\n",
       "      <td>1218.71</td>\n",
       "      <td>1215.16</td>\n",
       "      <td>1218.12</td>\n",
       "      <td>21142</td>\n",
       "      <td>2114199999978858</td>\n",
       "      <td>40</td>\n",
       "    </tr>\n",
       "    <tr>\n",
       "      <th>2017-02-02 19:00:00</th>\n",
       "      <td>1218.12</td>\n",
       "      <td>1218.41</td>\n",
       "      <td>1213.51</td>\n",
       "      <td>1215.29</td>\n",
       "      <td>15446</td>\n",
       "      <td>1544599999984554</td>\n",
       "      <td>40</td>\n",
       "    </tr>\n",
       "    <tr>\n",
       "      <th>2017-02-02 20:00:00</th>\n",
       "      <td>1215.31</td>\n",
       "      <td>1217.96</td>\n",
       "      <td>1214.85</td>\n",
       "      <td>1215.79</td>\n",
       "      <td>4809</td>\n",
       "      <td>480799999995192</td>\n",
       "      <td>40</td>\n",
       "    </tr>\n",
       "    <tr>\n",
       "      <th>...</th>\n",
       "      <td>...</td>\n",
       "      <td>...</td>\n",
       "      <td>...</td>\n",
       "      <td>...</td>\n",
       "      <td>...</td>\n",
       "      <td>...</td>\n",
       "      <td>...</td>\n",
       "    </tr>\n",
       "    <tr>\n",
       "      <th>2017-08-04 19:00:00</th>\n",
       "      <td>1256.68</td>\n",
       "      <td>1258.21</td>\n",
       "      <td>1256.20</td>\n",
       "      <td>1257.18</td>\n",
       "      <td>14556</td>\n",
       "      <td>1455599999985444</td>\n",
       "      <td>40</td>\n",
       "    </tr>\n",
       "    <tr>\n",
       "      <th>2017-08-04 20:00:00</th>\n",
       "      <td>1257.18</td>\n",
       "      <td>1258.96</td>\n",
       "      <td>1256.88</td>\n",
       "      <td>1257.90</td>\n",
       "      <td>11792</td>\n",
       "      <td>1179199999988208</td>\n",
       "      <td>40</td>\n",
       "    </tr>\n",
       "    <tr>\n",
       "      <th>2017-08-04 21:00:00</th>\n",
       "      <td>1257.90</td>\n",
       "      <td>1258.98</td>\n",
       "      <td>1257.18</td>\n",
       "      <td>1258.26</td>\n",
       "      <td>9815</td>\n",
       "      <td>981499999990185</td>\n",
       "      <td>40</td>\n",
       "    </tr>\n",
       "    <tr>\n",
       "      <th>2017-08-04 22:00:00</th>\n",
       "      <td>1258.26</td>\n",
       "      <td>1259.03</td>\n",
       "      <td>1257.91</td>\n",
       "      <td>1258.39</td>\n",
       "      <td>9209</td>\n",
       "      <td>920899999990791</td>\n",
       "      <td>40</td>\n",
       "    </tr>\n",
       "    <tr>\n",
       "      <th>2017-08-04 23:00:00</th>\n",
       "      <td>1258.37</td>\n",
       "      <td>1259.12</td>\n",
       "      <td>1258.17</td>\n",
       "      <td>1258.62</td>\n",
       "      <td>3538</td>\n",
       "      <td>353799999996462</td>\n",
       "      <td>40</td>\n",
       "    </tr>\n",
       "  </tbody>\n",
       "</table>\n",
       "<p>2984 rows × 7 columns</p>\n",
       "</div>"
      ],
      "text/plain": [
       "                      <OPEN>   <HIGH>    <LOW>  <CLOSE>  <TICKVOL>  \\\n",
       "<DATETIME>                                                           \n",
       "2017-02-02 16:00:00  1223.52  1223.60  1219.85  1221.47      18611   \n",
       "2017-02-02 17:00:00  1221.42  1221.87  1216.15  1216.76      23109   \n",
       "2017-02-02 18:00:00  1216.78  1218.71  1215.16  1218.12      21142   \n",
       "2017-02-02 19:00:00  1218.12  1218.41  1213.51  1215.29      15446   \n",
       "2017-02-02 20:00:00  1215.31  1217.96  1214.85  1215.79       4809   \n",
       "...                      ...      ...      ...      ...        ...   \n",
       "2017-08-04 19:00:00  1256.68  1258.21  1256.20  1257.18      14556   \n",
       "2017-08-04 20:00:00  1257.18  1258.96  1256.88  1257.90      11792   \n",
       "2017-08-04 21:00:00  1257.90  1258.98  1257.18  1258.26       9815   \n",
       "2017-08-04 22:00:00  1258.26  1259.03  1257.91  1258.39       9209   \n",
       "2017-08-04 23:00:00  1258.37  1259.12  1258.17  1258.62       3538   \n",
       "\n",
       "                                <VOL>  <SPREAD>  \n",
       "<DATETIME>                                       \n",
       "2017-02-02 16:00:00  1329499999986705        40  \n",
       "2017-02-02 17:00:00  2310899999976891        40  \n",
       "2017-02-02 18:00:00  2114199999978858        40  \n",
       "2017-02-02 19:00:00  1544599999984554        40  \n",
       "2017-02-02 20:00:00   480799999995192        40  \n",
       "...                               ...       ...  \n",
       "2017-08-04 19:00:00  1455599999985444        40  \n",
       "2017-08-04 20:00:00  1179199999988208        40  \n",
       "2017-08-04 21:00:00   981499999990185        40  \n",
       "2017-08-04 22:00:00   920899999990791        40  \n",
       "2017-08-04 23:00:00   353799999996462        40  \n",
       "\n",
       "[2984 rows x 7 columns]"
      ]
     },
     "execution_count": 10,
     "metadata": {},
     "output_type": "execute_result"
    }
   ],
   "source": [
    "df[df[\"<VOL>\"] != 0]"
   ]
  },
  {
   "cell_type": "code",
   "execution_count": 11,
   "metadata": {},
   "outputs": [
    {
     "data": {
      "text/html": [
       "<div>\n",
       "<style scoped>\n",
       "    .dataframe tbody tr th:only-of-type {\n",
       "        vertical-align: middle;\n",
       "    }\n",
       "\n",
       "    .dataframe tbody tr th {\n",
       "        vertical-align: top;\n",
       "    }\n",
       "\n",
       "    .dataframe thead th {\n",
       "        text-align: right;\n",
       "    }\n",
       "</style>\n",
       "<table border=\"1\" class=\"dataframe\">\n",
       "  <thead>\n",
       "    <tr style=\"text-align: right;\">\n",
       "      <th></th>\n",
       "      <th>&lt;OPEN&gt;</th>\n",
       "      <th>&lt;HIGH&gt;</th>\n",
       "      <th>&lt;LOW&gt;</th>\n",
       "      <th>&lt;CLOSE&gt;</th>\n",
       "    </tr>\n",
       "    <tr>\n",
       "      <th>&lt;DATETIME&gt;</th>\n",
       "      <th></th>\n",
       "      <th></th>\n",
       "      <th></th>\n",
       "      <th></th>\n",
       "    </tr>\n",
       "  </thead>\n",
       "  <tbody>\n",
       "    <tr>\n",
       "      <th>2014-01-02 09:00:00</th>\n",
       "      <td>1225.05</td>\n",
       "      <td>1228.42</td>\n",
       "      <td>1220.52</td>\n",
       "      <td>1222.86</td>\n",
       "    </tr>\n",
       "    <tr>\n",
       "      <th>2014-01-02 10:00:00</th>\n",
       "      <td>1222.86</td>\n",
       "      <td>1223.91</td>\n",
       "      <td>1219.66</td>\n",
       "      <td>1221.65</td>\n",
       "    </tr>\n",
       "    <tr>\n",
       "      <th>2014-01-02 11:00:00</th>\n",
       "      <td>1221.66</td>\n",
       "      <td>1221.96</td>\n",
       "      <td>1219.10</td>\n",
       "      <td>1221.26</td>\n",
       "    </tr>\n",
       "    <tr>\n",
       "      <th>2014-01-02 12:00:00</th>\n",
       "      <td>1221.29</td>\n",
       "      <td>1221.83</td>\n",
       "      <td>1219.26</td>\n",
       "      <td>1221.25</td>\n",
       "    </tr>\n",
       "    <tr>\n",
       "      <th>2014-01-02 13:00:00</th>\n",
       "      <td>1221.25</td>\n",
       "      <td>1221.46</td>\n",
       "      <td>1216.51</td>\n",
       "      <td>1217.95</td>\n",
       "    </tr>\n",
       "    <tr>\n",
       "      <th>...</th>\n",
       "      <td>...</td>\n",
       "      <td>...</td>\n",
       "      <td>...</td>\n",
       "      <td>...</td>\n",
       "    </tr>\n",
       "    <tr>\n",
       "      <th>2023-12-07 04:00:00</th>\n",
       "      <td>2026.08</td>\n",
       "      <td>2029.87</td>\n",
       "      <td>2026.04</td>\n",
       "      <td>2028.95</td>\n",
       "    </tr>\n",
       "    <tr>\n",
       "      <th>2023-12-07 05:00:00</th>\n",
       "      <td>2028.90</td>\n",
       "      <td>2029.78</td>\n",
       "      <td>2026.36</td>\n",
       "      <td>2026.76</td>\n",
       "    </tr>\n",
       "    <tr>\n",
       "      <th>2023-12-07 06:00:00</th>\n",
       "      <td>2026.70</td>\n",
       "      <td>2026.95</td>\n",
       "      <td>2025.24</td>\n",
       "      <td>2025.92</td>\n",
       "    </tr>\n",
       "    <tr>\n",
       "      <th>2023-12-07 07:00:00</th>\n",
       "      <td>2025.83</td>\n",
       "      <td>2027.23</td>\n",
       "      <td>2025.11</td>\n",
       "      <td>2026.66</td>\n",
       "    </tr>\n",
       "    <tr>\n",
       "      <th>2023-12-07 08:00:00</th>\n",
       "      <td>2026.72</td>\n",
       "      <td>2029.07</td>\n",
       "      <td>2026.15</td>\n",
       "      <td>2027.52</td>\n",
       "    </tr>\n",
       "  </tbody>\n",
       "</table>\n",
       "<p>58885 rows × 4 columns</p>\n",
       "</div>"
      ],
      "text/plain": [
       "                      <OPEN>   <HIGH>    <LOW>  <CLOSE>\n",
       "<DATETIME>                                             \n",
       "2014-01-02 09:00:00  1225.05  1228.42  1220.52  1222.86\n",
       "2014-01-02 10:00:00  1222.86  1223.91  1219.66  1221.65\n",
       "2014-01-02 11:00:00  1221.66  1221.96  1219.10  1221.26\n",
       "2014-01-02 12:00:00  1221.29  1221.83  1219.26  1221.25\n",
       "2014-01-02 13:00:00  1221.25  1221.46  1216.51  1217.95\n",
       "...                      ...      ...      ...      ...\n",
       "2023-12-07 04:00:00  2026.08  2029.87  2026.04  2028.95\n",
       "2023-12-07 05:00:00  2028.90  2029.78  2026.36  2026.76\n",
       "2023-12-07 06:00:00  2026.70  2026.95  2025.24  2025.92\n",
       "2023-12-07 07:00:00  2025.83  2027.23  2025.11  2026.66\n",
       "2023-12-07 08:00:00  2026.72  2029.07  2026.15  2027.52\n",
       "\n",
       "[58885 rows x 4 columns]"
      ]
     },
     "execution_count": 11,
     "metadata": {},
     "output_type": "execute_result"
    }
   ],
   "source": [
    "df = df.drop([\"<VOL>\", \"<SPREAD>\", \"<TICKVOL>\"], axis=1)\n",
    "df"
   ]
  },
  {
   "cell_type": "markdown",
   "metadata": {},
   "source": [
    "# Drop  OPEN HIGH LOW because correlation is super high"
   ]
  },
  {
   "cell_type": "code",
   "execution_count": 12,
   "metadata": {},
   "outputs": [],
   "source": [
    "df = df.drop([\"<OPEN>\", \"<HIGH>\", \"<LOW>\"], axis=1)"
   ]
  },
  {
   "cell_type": "code",
   "execution_count": 13,
   "metadata": {},
   "outputs": [
    {
     "data": {
      "image/png": "[encoded data removed]",
      "text/plain": [
       "<Figure size 640x480 with 2 Axes>"
      ]
     },
     "metadata": {},
     "output_type": "display_data"
    }
   ],
   "source": [
    "sns.heatmap(df.corr(), annot=True, cmap='coolwarm')\n",
    "plt.title('Correlation Matrix')\n",
    "plt.show()"
   ]
  },
  {
   "cell_type": "markdown",
   "metadata": {},
   "source": [
    "# DATA OVERVIEW"
   ]
  },
  {
   "cell_type": "code",
   "execution_count": 14,
   "metadata": {},
   "outputs": [
    {
     "data": {
      "text/plain": [
       "[<matplotlib.lines.Line2D at 0x7f31c259e920>]"
      ]
     },
     "execution_count": 14,
     "metadata": {},
     "output_type": "execute_result"
    },
    {
     "data": {
      "image/png": "[encoded data removed]",
      "text/plain": [
       "<Figure size 640x480 with 1 Axes>"
      ]
     },
     "metadata": {},
     "output_type": "display_data"
    }
   ],
   "source": [
    "plt.plot(df['<CLOSE>'])"
   ]
  },
  {
   "cell_type": "markdown",
   "metadata": {},
   "source": [
    "# Prepare data for supervised learning"
   ]
  },
  {
   "cell_type": "code",
   "execution_count": 15,
   "metadata": {},
   "outputs": [],
   "source": [
    "def create_features(df, label=None):\n",
    "    df['date'] = df.index\n",
    "    df['hour'] = df['date'].dt.hour\n",
    "    df['dayofweek'] = df['date'].dt.dayofweek\n",
    "    df['quarter'] = df['date'].dt.quarter\n",
    "    df['month'] = df['date'].dt.month\n",
    "    df['year'] = df['date'].dt.year\n",
    "    df['dayofyear'] = df['date'].dt.dayofyear\n",
    "    df['dayofmonth'] = df['date'].dt.day\n",
    "    \n",
    "    X = df[['hour','dayofweek','quarter','month','year',\n",
    "           'dayofyear','dayofmonth']]\n",
    "    if label:\n",
    "        y = df[label]\n",
    "        return X, y\n",
    "    return X\n",
    "X,Y = create_features(df, label='<CLOSE>')"
   ]
  },
  {
   "cell_type": "markdown",
   "metadata": {},
   "source": [
    "## Split dataset"
   ]
  },
  {
   "cell_type": "code",
   "execution_count": 16,
   "metadata": {},
   "outputs": [],
   "source": [
    "# split a univariate dataset into train/test sets\n",
    "x_train_full, x_test, y_train_full, y_test = train_test_split(X, Y, test_size = 0.1, random_state=42,shuffle=False) # test must not be shuffle\n",
    "x_train, x_val, y_train, y_val = train_test_split(x_train_full, y_train_full, test_size=0.3, random_state=42, shuffle=True)"
   ]
  },
  {
   "cell_type": "markdown",
   "metadata": {},
   "source": [
    "## XGB model"
   ]
  },
  {
   "cell_type": "code",
   "execution_count": 17,
   "metadata": {},
   "outputs": [],
   "source": [
    "xgb_params_grid = param_dist = {\n",
    "    'max_depth': [4,8,16,32,64],\n",
    "    'learning_rate': [ 0.01, 0.1 ],\n",
    "    'subsample': np.linspace(0.5, 1, 4),\n",
    "    'n_estimators': [25, 50, 100],\n",
    "}\n",
    "xgb_grid = GridSearchCV(XGBRegressor(), xgb_params_grid, n_jobs=-1, verbose=1)"
   ]
  },
  {
   "cell_type": "code",
   "execution_count": 18,
   "metadata": {},
   "outputs": [
    {
     "name": "stdout",
     "output_type": "stream",
     "text": [
      "Fitting 5 folds for each of 120 candidates, totalling 600 fits\n"
     ]
    },
    {
     "name": "stderr",
     "output_type": "stream",
     "text": [
      "/home/ss/.conda/envs/ML_Lab/lib/python3.10/site-packages/joblib/externals/loky/process_executor.py:700: UserWarning: A worker stopped while some jobs were given to the executor. This can be caused by a too short worker timeout or by a memory leak.\n",
      "  warnings.warn(\n"
     ]
    },
    {
     "data": {
      "text/html": [
       "<style>#sk-container-id-1 {color: black;}#sk-container-id-1 pre{padding: 0;}#sk-container-id-1 div.sk-toggleable {background-color: white;}#sk-container-id-1 label.sk-toggleable__label {cursor: pointer;display: block;width: 100%;margin-bottom: 0;padding: 0.3em;box-sizing: border-box;text-align: center;}#sk-container-id-1 label.sk-toggleable__label-arrow:before {content: \"▸\";float: left;margin-right: 0.25em;color: #696969;}#sk-container-id-1 label.sk-toggleable__label-arrow:hover:before {color: black;}#sk-container-id-1 div.sk-estimator:hover label.sk-toggleable__label-arrow:before {color: black;}#sk-container-id-1 div.sk-toggleable__content {max-height: 0;max-width: 0;overflow: hidden;text-align: left;background-color: #f0f8ff;}#sk-container-id-1 div.sk-toggleable__content pre {margin: 0.2em;color: black;border-radius: 0.25em;background-color: #f0f8ff;}#sk-container-id-1 input.sk-toggleable__control:checked~div.sk-toggleable__content {max-height: 200px;max-width: 100%;overflow: auto;}#sk-container-id-1 input.sk-toggleable__control:checked~label.sk-toggleable__label-arrow:before {content: \"▾\";}#sk-container-id-1 div.sk-estimator input.sk-toggleable__control:checked~label.sk-toggleable__label {background-color: #d4ebff;}#sk-container-id-1 div.sk-label input.sk-toggleable__control:checked~label.sk-toggleable__label {background-color: #d4ebff;}#sk-container-id-1 input.sk-hidden--visually {border: 0;clip: rect(1px 1px 1px 1px);clip: rect(1px, 1px, 1px, 1px);height: 1px;margin: -1px;overflow: hidden;padding: 0;position: absolute;width: 1px;}#sk-container-id-1 div.sk-estimator {font-family: monospace;background-color: #f0f8ff;border: 1px dotted black;border-radius: 0.25em;box-sizing: border-box;margin-bottom: 0.5em;}#sk-container-id-1 div.sk-estimator:hover {background-color: #d4ebff;}#sk-container-id-1 div.sk-parallel-item::after {content: \"\";width: 100%;border-bottom: 1px solid gray;flex-grow: 1;}#sk-container-id-1 div.sk-label:hover label.sk-toggleable__label {background-color: #d4ebff;}#sk-container-id-1 div.sk-serial::before {content: \"\";position: absolute;border-left: 1px solid gray;box-sizing: border-box;top: 0;bottom: 0;left: 50%;z-index: 0;}#sk-container-id-1 div.sk-serial {display: flex;flex-direction: column;align-items: center;background-color: white;padding-right: 0.2em;padding-left: 0.2em;position: relative;}#sk-container-id-1 div.sk-item {position: relative;z-index: 1;}#sk-container-id-1 div.sk-parallel {display: flex;align-items: stretch;justify-content: center;background-color: white;position: relative;}#sk-container-id-1 div.sk-item::before, #sk-container-id-1 div.sk-parallel-item::before {content: \"\";position: absolute;border-left: 1px solid gray;box-sizing: border-box;top: 0;bottom: 0;left: 50%;z-index: -1;}#sk-container-id-1 div.sk-parallel-item {display: flex;flex-direction: column;z-index: 1;position: relative;background-color: white;}#sk-container-id-1 div.sk-parallel-item:first-child::after {align-self: flex-end;width: 50%;}#sk-container-id-1 div.sk-parallel-item:last-child::after {align-self: flex-start;width: 50%;}#sk-container-id-1 div.sk-parallel-item:only-child::after {width: 0;}#sk-container-id-1 div.sk-dashed-wrapped {border: 1px dashed gray;margin: 0 0.4em 0.5em 0.4em;box-sizing: border-box;padding-bottom: 0.4em;background-color: white;}#sk-container-id-1 div.sk-label label {font-family: monospace;font-weight: bold;display: inline-block;line-height: 1.2em;}#sk-container-id-1 div.sk-label-container {text-align: center;}#sk-container-id-1 div.sk-container {/* jupyter's `normalize.less` sets `[hidden] { display: none; }` but bootstrap.min.css set `[hidden] { display: none !important; }` so we also need the `!important` here to be able to override the default hidden behavior on the sphinx rendered scikit-learn.org. See: https://github.com/scikit-learn/scikit-learn/issues/21755 */display: inline-block !important;position: relative;}#sk-container-id-1 div.sk-text-repr-fallback {display: none;}</style><div id=\"sk-container-id-1\" class=\"sk-top-container\"><div class=\"sk-text-repr-fallback\"><pre>GridSearchCV(estimator=XGBRegressor(base_score=None, booster=None,\n",
       "                                    callbacks=None, colsample_bylevel=None,\n",
       "                                    colsample_bynode=None,\n",
       "                                    colsample_bytree=None, device=None,\n",
       "                                    early_stopping_rounds=None,\n",
       "                                    enable_categorical=False, eval_metric=None,\n",
       "                                    feature_types=None, gamma=None,\n",
       "                                    grow_policy=None, importance_type=None,\n",
       "                                    interaction_constraints=None,\n",
       "                                    learning_rate=None, max_bi...\n",
       "                                    max_depth=None, max_leaves=None,\n",
       "                                    min_child_weight=None, missing=nan,\n",
       "                                    monotone_constraints=None,\n",
       "                                    multi_strategy=None, n_estimators=None,\n",
       "                                    n_jobs=None, num_parallel_tree=None,\n",
       "                                    random_state=None, ...),\n",
       "             n_jobs=-1,\n",
       "             param_grid={&#x27;learning_rate&#x27;: [0.01, 0.1],\n",
       "                         &#x27;max_depth&#x27;: [4, 8, 16, 32, 64],\n",
       "                         &#x27;n_estimators&#x27;: [25, 50, 100],\n",
       "                         &#x27;subsample&#x27;: array([0.5       , 0.66666667, 0.83333333, 1.        ])},\n",
       "             verbose=1)</pre><b>In a Jupyter environment, please rerun this cell to show the HTML representation or trust the notebook. <br />On GitHub, the HTML representation is unable to render, please try loading this page with nbviewer.org.</b></div><div class=\"sk-container\" hidden><div class=\"sk-item sk-dashed-wrapped\"><div class=\"sk-label-container\"><div class=\"sk-label sk-toggleable\"><input class=\"sk-toggleable__control sk-hidden--visually\" id=\"sk-estimator-id-1\" type=\"checkbox\" ><label for=\"sk-estimator-id-1\" class=\"sk-toggleable__label sk-toggleable__label-arrow\">GridSearchCV</label><div class=\"sk-toggleable__content\"><pre>GridSearchCV(estimator=XGBRegressor(base_score=None, booster=None,\n",
       "                                    callbacks=None, colsample_bylevel=None,\n",
       "                                    colsample_bynode=None,\n",
       "                                    colsample_bytree=None, device=None,\n",
       "                                    early_stopping_rounds=None,\n",
       "                                    enable_categorical=False, eval_metric=None,\n",
       "                                    feature_types=None, gamma=None,\n",
       "                                    grow_policy=None, importance_type=None,\n",
       "                                    interaction_constraints=None,\n",
       "                                    learning_rate=None, max_bi...\n",
       "                                    max_depth=None, max_leaves=None,\n",
       "                                    min_child_weight=None, missing=nan,\n",
       "                                    monotone_constraints=None,\n",
       "                                    multi_strategy=None, n_estimators=None,\n",
       "                                    n_jobs=None, num_parallel_tree=None,\n",
       "                                    random_state=None, ...),\n",
       "             n_jobs=-1,\n",
       "             param_grid={&#x27;learning_rate&#x27;: [0.01, 0.1],\n",
       "                         &#x27;max_depth&#x27;: [4, 8, 16, 32, 64],\n",
       "                         &#x27;n_estimators&#x27;: [25, 50, 100],\n",
       "                         &#x27;subsample&#x27;: array([0.5       , 0.66666667, 0.83333333, 1.        ])},\n",
       "             verbose=1)</pre></div></div></div><div class=\"sk-parallel\"><div class=\"sk-parallel-item\"><div class=\"sk-item\"><div class=\"sk-label-container\"><div class=\"sk-label sk-toggleable\"><input class=\"sk-toggleable__control sk-hidden--visually\" id=\"sk-estimator-id-2\" type=\"checkbox\" ><label for=\"sk-estimator-id-2\" class=\"sk-toggleable__label sk-toggleable__label-arrow\">estimator: XGBRegressor</label><div class=\"sk-toggleable__content\"><pre>XGBRegressor(base_score=None, booster=None, callbacks=None,\n",
       "             colsample_bylevel=None, colsample_bynode=None,\n",
       "             colsample_bytree=None, device=None, early_stopping_rounds=None,\n",
       "             enable_categorical=False, eval_metric=None, feature_types=None,\n",
       "             gamma=None, grow_policy=None, importance_type=None,\n",
       "             interaction_constraints=None, learning_rate=None, max_bin=None,\n",
       "             max_cat_threshold=None, max_cat_to_onehot=None,\n",
       "             max_delta_step=None, max_depth=None, max_leaves=None,\n",
       "             min_child_weight=None, missing=nan, monotone_constraints=None,\n",
       "             multi_strategy=None, n_estimators=None, n_jobs=None,\n",
       "             num_parallel_tree=None, random_state=None, ...)</pre></div></div></div><div class=\"sk-serial\"><div class=\"sk-item\"><div class=\"sk-estimator sk-toggleable\"><input class=\"sk-toggleable__control sk-hidden--visually\" id=\"sk-estimator-id-3\" type=\"checkbox\" ><label for=\"sk-estimator-id-3\" class=\"sk-toggleable__label sk-toggleable__label-arrow\">XGBRegressor</label><div class=\"sk-toggleable__content\"><pre>XGBRegressor(base_score=None, booster=None, callbacks=None,\n",
       "             colsample_bylevel=None, colsample_bynode=None,\n",
       "             colsample_bytree=None, device=None, early_stopping_rounds=None,\n",
       "             enable_categorical=False, eval_metric=None, feature_types=None,\n",
       "             gamma=None, grow_policy=None, importance_type=None,\n",
       "             interaction_constraints=None, learning_rate=None, max_bin=None,\n",
       "             max_cat_threshold=None, max_cat_to_onehot=None,\n",
       "             max_delta_step=None, max_depth=None, max_leaves=None,\n",
       "             min_child_weight=None, missing=nan, monotone_constraints=None,\n",
       "             multi_strategy=None, n_estimators=None, n_jobs=None,\n",
       "             num_parallel_tree=None, random_state=None, ...)</pre></div></div></div></div></div></div></div></div></div></div>"
      ],
      "text/plain": [
       "GridSearchCV(estimator=XGBRegressor(base_score=None, booster=None,\n",
       "                                    callbacks=None, colsample_bylevel=None,\n",
       "                                    colsample_bynode=None,\n",
       "                                    colsample_bytree=None, device=None,\n",
       "                                    early_stopping_rounds=None,\n",
       "                                    enable_categorical=False, eval_metric=None,\n",
       "                                    feature_types=None, gamma=None,\n",
       "                                    grow_policy=None, importance_type=None,\n",
       "                                    interaction_constraints=None,\n",
       "                                    learning_rate=None, max_bi...\n",
       "                                    max_depth=None, max_leaves=None,\n",
       "                                    min_child_weight=None, missing=nan,\n",
       "                                    monotone_constraints=None,\n",
       "                                    multi_strategy=None, n_estimators=None,\n",
       "                                    n_jobs=None, num_parallel_tree=None,\n",
       "                                    random_state=None, ...),\n",
       "             n_jobs=-1,\n",
       "             param_grid={'learning_rate': [0.01, 0.1],\n",
       "                         'max_depth': [4, 8, 16, 32, 64],\n",
       "                         'n_estimators': [25, 50, 100],\n",
       "                         'subsample': array([0.5       , 0.66666667, 0.83333333, 1.        ])},\n",
       "             verbose=1)"
      ]
     },
     "execution_count": 18,
     "metadata": {},
     "output_type": "execute_result"
    }
   ],
   "source": [
    "xgb_grid.fit(x_train, y_train,\n",
    "        eval_set=[(x_val, y_val)],\n",
    "       verbose=False)"
   ]
  },
  {
   "cell_type": "code",
   "execution_count": 19,
   "metadata": {},
   "outputs": [],
   "source": [
    "y_pred_xgb = xgb_grid.predict(x_test)"
   ]
  },
  {
   "cell_type": "code",
   "execution_count": 20,
   "metadata": {},
   "outputs": [
    {
     "data": {
      "text/plain": [
       "{'learning_rate': 0.1,\n",
       " 'max_depth': 32,\n",
       " 'n_estimators': 100,\n",
       " 'subsample': 0.8333333333333333}"
      ]
     },
     "execution_count": 20,
     "metadata": {},
     "output_type": "execute_result"
    }
   ],
   "source": [
    "xgb_grid.best_params_"
   ]
  },
  {
   "cell_type": "markdown",
   "metadata": {},
   "source": [
    "## Random forrest"
   ]
  },
  {
   "cell_type": "code",
   "execution_count": 21,
   "metadata": {},
   "outputs": [],
   "source": [
    "rf_params_grid = {\n",
    "    'max_depth': [25,50,100,200],\n",
    "    'n_estimators': [25, 50, 100],\n",
    "}\n",
    "\n",
    "rf_grid = GridSearchCV(RandomForestRegressor(), rf_params_grid,cv=5, n_jobs=-1, verbose=1)"
   ]
  },
  {
   "cell_type": "code",
   "execution_count": 22,
   "metadata": {},
   "outputs": [
    {
     "name": "stdout",
     "output_type": "stream",
     "text": [
      "Fitting 5 folds for each of 12 candidates, totalling 60 fits\n"
     ]
    },
    {
     "name": "stderr",
     "output_type": "stream",
     "text": [
      "/home/ss/.conda/envs/ML_Lab/lib/python3.10/site-packages/joblib/externals/loky/process_executor.py:700: UserWarning: A worker stopped while some jobs were given to the executor. This can be caused by a too short worker timeout or by a memory leak.\n",
      "  warnings.warn(\n"
     ]
    },
    {
     "data": {
      "text/html": [
       "<style>#sk-container-id-2 {color: black;}#sk-container-id-2 pre{padding: 0;}#sk-container-id-2 div.sk-toggleable {background-color: white;}#sk-container-id-2 label.sk-toggleable__label {cursor: pointer;display: block;width: 100%;margin-bottom: 0;padding: 0.3em;box-sizing: border-box;text-align: center;}#sk-container-id-2 label.sk-toggleable__label-arrow:before {content: \"▸\";float: left;margin-right: 0.25em;color: #696969;}#sk-container-id-2 label.sk-toggleable__label-arrow:hover:before {color: black;}#sk-container-id-2 div.sk-estimator:hover label.sk-toggleable__label-arrow:before {color: black;}#sk-container-id-2 div.sk-toggleable__content {max-height: 0;max-width: 0;overflow: hidden;text-align: left;background-color: #f0f8ff;}#sk-container-id-2 div.sk-toggleable__content pre {margin: 0.2em;color: black;border-radius: 0.25em;background-color: #f0f8ff;}#sk-container-id-2 input.sk-toggleable__control:checked~div.sk-toggleable__content {max-height: 200px;max-width: 100%;overflow: auto;}#sk-container-id-2 input.sk-toggleable__control:checked~label.sk-toggleable__label-arrow:before {content: \"▾\";}#sk-container-id-2 div.sk-estimator input.sk-toggleable__control:checked~label.sk-toggleable__label {background-color: #d4ebff;}#sk-container-id-2 div.sk-label input.sk-toggleable__control:checked~label.sk-toggleable__label {background-color: #d4ebff;}#sk-container-id-2 input.sk-hidden--visually {border: 0;clip: rect(1px 1px 1px 1px);clip: rect(1px, 1px, 1px, 1px);height: 1px;margin: -1px;overflow: hidden;padding: 0;position: absolute;width: 1px;}#sk-container-id-2 div.sk-estimator {font-family: monospace;background-color: #f0f8ff;border: 1px dotted black;border-radius: 0.25em;box-sizing: border-box;margin-bottom: 0.5em;}#sk-container-id-2 div.sk-estimator:hover {background-color: #d4ebff;}#sk-container-id-2 div.sk-parallel-item::after {content: \"\";width: 100%;border-bottom: 1px solid gray;flex-grow: 1;}#sk-container-id-2 div.sk-label:hover label.sk-toggleable__label {background-color: #d4ebff;}#sk-container-id-2 div.sk-serial::before {content: \"\";position: absolute;border-left: 1px solid gray;box-sizing: border-box;top: 0;bottom: 0;left: 50%;z-index: 0;}#sk-container-id-2 div.sk-serial {display: flex;flex-direction: column;align-items: center;background-color: white;padding-right: 0.2em;padding-left: 0.2em;position: relative;}#sk-container-id-2 div.sk-item {position: relative;z-index: 1;}#sk-container-id-2 div.sk-parallel {display: flex;align-items: stretch;justify-content: center;background-color: white;position: relative;}#sk-container-id-2 div.sk-item::before, #sk-container-id-2 div.sk-parallel-item::before {content: \"\";position: absolute;border-left: 1px solid gray;box-sizing: border-box;top: 0;bottom: 0;left: 50%;z-index: -1;}#sk-container-id-2 div.sk-parallel-item {display: flex;flex-direction: column;z-index: 1;position: relative;background-color: white;}#sk-container-id-2 div.sk-parallel-item:first-child::after {align-self: flex-end;width: 50%;}#sk-container-id-2 div.sk-parallel-item:last-child::after {align-self: flex-start;width: 50%;}#sk-container-id-2 div.sk-parallel-item:only-child::after {width: 0;}#sk-container-id-2 div.sk-dashed-wrapped {border: 1px dashed gray;margin: 0 0.4em 0.5em 0.4em;box-sizing: border-box;padding-bottom: 0.4em;background-color: white;}#sk-container-id-2 div.sk-label label {font-family: monospace;font-weight: bold;display: inline-block;line-height: 1.2em;}#sk-container-id-2 div.sk-label-container {text-align: center;}#sk-container-id-2 div.sk-container {/* jupyter's `normalize.less` sets `[hidden] { display: none; }` but bootstrap.min.css set `[hidden] { display: none !important; }` so we also need the `!important` here to be able to override the default hidden behavior on the sphinx rendered scikit-learn.org. See: https://github.com/scikit-learn/scikit-learn/issues/21755 */display: inline-block !important;position: relative;}#sk-container-id-2 div.sk-text-repr-fallback {display: none;}</style><div id=\"sk-container-id-2\" class=\"sk-top-container\"><div class=\"sk-text-repr-fallback\"><pre>GridSearchCV(cv=5, estimator=RandomForestRegressor(), n_jobs=-1,\n",
       "             param_grid={&#x27;max_depth&#x27;: [25, 50, 100, 200],\n",
       "                         &#x27;n_estimators&#x27;: [25, 50, 100]},\n",
       "             verbose=1)</pre><b>In a Jupyter environment, please rerun this cell to show the HTML representation or trust the notebook. <br />On GitHub, the HTML representation is unable to render, please try loading this page with nbviewer.org.</b></div><div class=\"sk-container\" hidden><div class=\"sk-item sk-dashed-wrapped\"><div class=\"sk-label-container\"><div class=\"sk-label sk-toggleable\"><input class=\"sk-toggleable__control sk-hidden--visually\" id=\"sk-estimator-id-4\" type=\"checkbox\" ><label for=\"sk-estimator-id-4\" class=\"sk-toggleable__label sk-toggleable__label-arrow\">GridSearchCV</label><div class=\"sk-toggleable__content\"><pre>GridSearchCV(cv=5, estimator=RandomForestRegressor(), n_jobs=-1,\n",
       "             param_grid={&#x27;max_depth&#x27;: [25, 50, 100, 200],\n",
       "                         &#x27;n_estimators&#x27;: [25, 50, 100]},\n",
       "             verbose=1)</pre></div></div></div><div class=\"sk-parallel\"><div class=\"sk-parallel-item\"><div class=\"sk-item\"><div class=\"sk-label-container\"><div class=\"sk-label sk-toggleable\"><input class=\"sk-toggleable__control sk-hidden--visually\" id=\"sk-estimator-id-5\" type=\"checkbox\" ><label for=\"sk-estimator-id-5\" class=\"sk-toggleable__label sk-toggleable__label-arrow\">estimator: RandomForestRegressor</label><div class=\"sk-toggleable__content\"><pre>RandomForestRegressor()</pre></div></div></div><div class=\"sk-serial\"><div class=\"sk-item\"><div class=\"sk-estimator sk-toggleable\"><input class=\"sk-toggleable__control sk-hidden--visually\" id=\"sk-estimator-id-6\" type=\"checkbox\" ><label for=\"sk-estimator-id-6\" class=\"sk-toggleable__label sk-toggleable__label-arrow\">RandomForestRegressor</label><div class=\"sk-toggleable__content\"><pre>RandomForestRegressor()</pre></div></div></div></div></div></div></div></div></div></div>"
      ],
      "text/plain": [
       "GridSearchCV(cv=5, estimator=RandomForestRegressor(), n_jobs=-1,\n",
       "             param_grid={'max_depth': [25, 50, 100, 200],\n",
       "                         'n_estimators': [25, 50, 100]},\n",
       "             verbose=1)"
      ]
     },
     "execution_count": 22,
     "metadata": {},
     "output_type": "execute_result"
    }
   ],
   "source": [
    "rf_grid.fit(x_train_full, y_train_full)"
   ]
  },
  {
   "cell_type": "code",
   "execution_count": 23,
   "metadata": {},
   "outputs": [],
   "source": [
    "y_pred_tree = rf_grid.predict(x_test)"
   ]
  },
  {
   "cell_type": "code",
   "execution_count": 24,
   "metadata": {},
   "outputs": [
    {
     "data": {
      "text/plain": [
       "{'max_depth': 100, 'n_estimators': 50}"
      ]
     },
     "execution_count": 24,
     "metadata": {},
     "output_type": "execute_result"
    }
   ],
   "source": [
    "rf_grid.best_params_"
   ]
  },
  {
   "cell_type": "markdown",
   "metadata": {},
   "source": [
    "# Linear regression"
   ]
  },
  {
   "cell_type": "code",
   "execution_count": 25,
   "metadata": {},
   "outputs": [
    {
     "name": "stdout",
     "output_type": "stream",
     "text": [
      "Fitting 5 folds for each of 2 candidates, totalling 10 fits\n"
     ]
    },
    {
     "data": {
      "text/html": [
       "<style>#sk-container-id-3 {color: black;}#sk-container-id-3 pre{padding: 0;}#sk-container-id-3 div.sk-toggleable {background-color: white;}#sk-container-id-3 label.sk-toggleable__label {cursor: pointer;display: block;width: 100%;margin-bottom: 0;padding: 0.3em;box-sizing: border-box;text-align: center;}#sk-container-id-3 label.sk-toggleable__label-arrow:before {content: \"▸\";float: left;margin-right: 0.25em;color: #696969;}#sk-container-id-3 label.sk-toggleable__label-arrow:hover:before {color: black;}#sk-container-id-3 div.sk-estimator:hover label.sk-toggleable__label-arrow:before {color: black;}#sk-container-id-3 div.sk-toggleable__content {max-height: 0;max-width: 0;overflow: hidden;text-align: left;background-color: #f0f8ff;}#sk-container-id-3 div.sk-toggleable__content pre {margin: 0.2em;color: black;border-radius: 0.25em;background-color: #f0f8ff;}#sk-container-id-3 input.sk-toggleable__control:checked~div.sk-toggleable__content {max-height: 200px;max-width: 100%;overflow: auto;}#sk-container-id-3 input.sk-toggleable__control:checked~label.sk-toggleable__label-arrow:before {content: \"▾\";}#sk-container-id-3 div.sk-estimator input.sk-toggleable__control:checked~label.sk-toggleable__label {background-color: #d4ebff;}#sk-container-id-3 div.sk-label input.sk-toggleable__control:checked~label.sk-toggleable__label {background-color: #d4ebff;}#sk-container-id-3 input.sk-hidden--visually {border: 0;clip: rect(1px 1px 1px 1px);clip: rect(1px, 1px, 1px, 1px);height: 1px;margin: -1px;overflow: hidden;padding: 0;position: absolute;width: 1px;}#sk-container-id-3 div.sk-estimator {font-family: monospace;background-color: #f0f8ff;border: 1px dotted black;border-radius: 0.25em;box-sizing: border-box;margin-bottom: 0.5em;}#sk-container-id-3 div.sk-estimator:hover {background-color: #d4ebff;}#sk-container-id-3 div.sk-parallel-item::after {content: \"\";width: 100%;border-bottom: 1px solid gray;flex-grow: 1;}#sk-container-id-3 div.sk-label:hover label.sk-toggleable__label {background-color: #d4ebff;}#sk-container-id-3 div.sk-serial::before {content: \"\";position: absolute;border-left: 1px solid gray;box-sizing: border-box;top: 0;bottom: 0;left: 50%;z-index: 0;}#sk-container-id-3 div.sk-serial {display: flex;flex-direction: column;align-items: center;background-color: white;padding-right: 0.2em;padding-left: 0.2em;position: relative;}#sk-container-id-3 div.sk-item {position: relative;z-index: 1;}#sk-container-id-3 div.sk-parallel {display: flex;align-items: stretch;justify-content: center;background-color: white;position: relative;}#sk-container-id-3 div.sk-item::before, #sk-container-id-3 div.sk-parallel-item::before {content: \"\";position: absolute;border-left: 1px solid gray;box-sizing: border-box;top: 0;bottom: 0;left: 50%;z-index: -1;}#sk-container-id-3 div.sk-parallel-item {display: flex;flex-direction: column;z-index: 1;position: relative;background-color: white;}#sk-container-id-3 div.sk-parallel-item:first-child::after {align-self: flex-end;width: 50%;}#sk-container-id-3 div.sk-parallel-item:last-child::after {align-self: flex-start;width: 50%;}#sk-container-id-3 div.sk-parallel-item:only-child::after {width: 0;}#sk-container-id-3 div.sk-dashed-wrapped {border: 1px dashed gray;margin: 0 0.4em 0.5em 0.4em;box-sizing: border-box;padding-bottom: 0.4em;background-color: white;}#sk-container-id-3 div.sk-label label {font-family: monospace;font-weight: bold;display: inline-block;line-height: 1.2em;}#sk-container-id-3 div.sk-label-container {text-align: center;}#sk-container-id-3 div.sk-container {/* jupyter's `normalize.less` sets `[hidden] { display: none; }` but bootstrap.min.css set `[hidden] { display: none !important; }` so we also need the `!important` here to be able to override the default hidden behavior on the sphinx rendered scikit-learn.org. See: https://github.com/scikit-learn/scikit-learn/issues/21755 */display: inline-block !important;position: relative;}#sk-container-id-3 div.sk-text-repr-fallback {display: none;}</style><div id=\"sk-container-id-3\" class=\"sk-top-container\"><div class=\"sk-text-repr-fallback\"><pre>GridSearchCV(estimator=LinearRegression(), n_jobs=-1,\n",
       "             param_grid={&#x27;fit_intercept&#x27;: [True, False]}, verbose=1)</pre><b>In a Jupyter environment, please rerun this cell to show the HTML representation or trust the notebook. <br />On GitHub, the HTML representation is unable to render, please try loading this page with nbviewer.org.</b></div><div class=\"sk-container\" hidden><div class=\"sk-item sk-dashed-wrapped\"><div class=\"sk-label-container\"><div class=\"sk-label sk-toggleable\"><input class=\"sk-toggleable__control sk-hidden--visually\" id=\"sk-estimator-id-7\" type=\"checkbox\" ><label for=\"sk-estimator-id-7\" class=\"sk-toggleable__label sk-toggleable__label-arrow\">GridSearchCV</label><div class=\"sk-toggleable__content\"><pre>GridSearchCV(estimator=LinearRegression(), n_jobs=-1,\n",
       "             param_grid={&#x27;fit_intercept&#x27;: [True, False]}, verbose=1)</pre></div></div></div><div class=\"sk-parallel\"><div class=\"sk-parallel-item\"><div class=\"sk-item\"><div class=\"sk-label-container\"><div class=\"sk-label sk-toggleable\"><input class=\"sk-toggleable__control sk-hidden--visually\" id=\"sk-estimator-id-8\" type=\"checkbox\" ><label for=\"sk-estimator-id-8\" class=\"sk-toggleable__label sk-toggleable__label-arrow\">estimator: LinearRegression</label><div class=\"sk-toggleable__content\"><pre>LinearRegression()</pre></div></div></div><div class=\"sk-serial\"><div class=\"sk-item\"><div class=\"sk-estimator sk-toggleable\"><input class=\"sk-toggleable__control sk-hidden--visually\" id=\"sk-estimator-id-9\" type=\"checkbox\" ><label for=\"sk-estimator-id-9\" class=\"sk-toggleable__label sk-toggleable__label-arrow\">LinearRegression</label><div class=\"sk-toggleable__content\"><pre>LinearRegression()</pre></div></div></div></div></div></div></div></div></div></div>"
      ],
      "text/plain": [
       "GridSearchCV(estimator=LinearRegression(), n_jobs=-1,\n",
       "             param_grid={'fit_intercept': [True, False]}, verbose=1)"
      ]
     },
     "execution_count": 25,
     "metadata": {},
     "output_type": "execute_result"
    }
   ],
   "source": [
    "linear_params_grid = {\n",
    "    'fit_intercept': [True, False],\n",
    "}\n",
    "linear_grid = GridSearchCV(LinearRegression(), linear_params_grid, n_jobs=-1, verbose=1)\n",
    "linear_grid.fit(x_train_full, y_train_full)"
   ]
  },
  {
   "cell_type": "code",
   "execution_count": 26,
   "metadata": {},
   "outputs": [],
   "source": [
    "linear_pred = linear_grid.predict(x_test)"
   ]
  },
  {
   "cell_type": "code",
   "execution_count": 27,
   "metadata": {},
   "outputs": [
    {
     "data": {
      "text/plain": [
       "{'fit_intercept': True}"
      ]
     },
     "execution_count": 27,
     "metadata": {},
     "output_type": "execute_result"
    }
   ],
   "source": [
    "linear_grid.best_params_"
   ]
  },
  {
   "cell_type": "markdown",
   "metadata": {},
   "source": [
    "# Predicting a totally unseen data"
   ]
  },
  {
   "cell_type": "code",
   "execution_count": 28,
   "metadata": {},
   "outputs": [],
   "source": [
    "def showResult(y_pred):\n",
    "    print('Mean Absolute Error:', mean_absolute_error(y_test, y_pred))\n",
    "    print('Mean Squared Error:', mean_squared_error(y_test, y_pred))\n",
    "    print('R2 Score:', r2_score(y_test, y_pred))\n",
    "\n",
    "    plt.plot(pd.DataFrame({\"Predicted\":y_pred} ,index=y_test.index) , label='Predicted')\n",
    "    plt.plot(y_test, label='Real')\n",
    "    plt.legend()\n",
    "    plt.show()"
   ]
  },
  {
   "cell_type": "code",
   "execution_count": 29,
   "metadata": {},
   "outputs": [
    {
     "name": "stdout",
     "output_type": "stream",
     "text": [
      "Mean Absolute Error: 144.10233968472073\n",
      "Mean Squared Error: 28616.309286415308\n",
      "R2 Score: -6.155595493754578\n"
     ]
    },
    {
     "data": {
      "image/png": "[encoded data removed]",
      "text/plain": [
       "<Figure size 640x480 with 1 Axes>"
      ]
     },
     "metadata": {},
     "output_type": "display_data"
    }
   ],
   "source": [
    "showResult(y_pred_xgb)"
   ]
  },
  {
   "cell_type": "code",
   "execution_count": 30,
   "metadata": {},
   "outputs": [
    {
     "name": "stdout",
     "output_type": "stream",
     "text": [
      "Mean Absolute Error: 144.00502516556287\n",
      "Mean Squared Error: 28606.91848118524\n",
      "R2 Score: -6.153247294239593\n"
     ]
    },
    {
     "data": {
      "image/png": "[encoded data removed]",
      "text/plain": [
       "<Figure size 640x480 with 1 Axes>"
      ]
     },
     "metadata": {},
     "output_type": "display_data"
    }
   ],
   "source": [
    "showResult(y_pred_tree)"
   ]
  },
  {
   "cell_type": "code",
   "execution_count": 31,
   "metadata": {},
   "outputs": [
    {
     "name": "stdout",
     "output_type": "stream",
     "text": [
      "Mean Absolute Error: 74.93450681714204\n",
      "Mean Squared Error: 7953.305757943666\n",
      "R2 Score: -0.9887483837411055\n"
     ]
    },
    {
     "data": {
      "image/png": "[encoded data removed]",
      "text/plain": [
       "<Figure size 640x480 with 1 Axes>"
      ]
     },
     "metadata": {},
     "output_type": "display_data"
    }
   ],
   "source": [
    "showResult(linear_pred)"
   ]
  }
 ],
 "metadata": {
  "kernelspec": {
   "display_name": "ML_Lab",
   "language": "python",
   "name": "python3"
  },
  "language_info": {
   "codemirror_mode": {
    "name": "ipython",
    "version": 3
   },
   "file_extension": ".py",
   "mimetype": "text/x-python",
   "name": "python",
   "nbconvert_exporter": "python",
   "pygments_lexer": "ipython3",
   "version": "3.10.13"
  }
 },
 "nbformat": 4,
 "nbformat_minor": 2
}
