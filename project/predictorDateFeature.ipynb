{
 "cells": [
  {
   "cell_type": "code",
   "execution_count": 1,
   "metadata": {},
   "outputs": [],
   "source": [
    "import pandas as pd\n",
    "from sklearn.metrics import mean_absolute_error,mean_squared_error,r2_score\n",
    "from sklearn.ensemble import RandomForestRegressor\n",
    "from sklearn.preprocessing import StandardScaler\n",
    "from sklearn.model_selection import GridSearchCV\n",
    "from sklearn.model_selection import train_test_split\n",
    "from xgboost import XGBRegressor\n",
    "from sklearn.linear_model import LinearRegression\n",
    "import numpy as np"
   ]
  },
  {
   "cell_type": "code",
   "execution_count": 2,
   "metadata": {},
   "outputs": [
    {
     "data": {
      "text/html": [
       "<div>\n",
       "<style scoped>\n",
       "    .dataframe tbody tr th:only-of-type {\n",
       "        vertical-align: middle;\n",
       "    }\n",
       "\n",
       "    .dataframe tbody tr th {\n",
       "        vertical-align: top;\n",
       "    }\n",
       "\n",
       "    .dataframe thead th {\n",
       "        text-align: right;\n",
       "    }\n",
       "</style>\n",
       "<table border=\"1\" class=\"dataframe\">\n",
       "  <thead>\n",
       "    <tr style=\"text-align: right;\">\n",
       "      <th></th>\n",
       "      <th>&lt;DATE&gt;</th>\n",
       "      <th>&lt;TIME&gt;</th>\n",
       "      <th>&lt;OPEN&gt;</th>\n",
       "      <th>&lt;HIGH&gt;</th>\n",
       "      <th>&lt;LOW&gt;</th>\n",
       "      <th>&lt;CLOSE&gt;</th>\n",
       "      <th>&lt;TICKVOL&gt;</th>\n",
       "      <th>&lt;VOL&gt;</th>\n",
       "      <th>&lt;SPREAD&gt;</th>\n",
       "    </tr>\n",
       "  </thead>\n",
       "  <tbody>\n",
       "    <tr>\n",
       "      <th>0</th>\n",
       "      <td>2014.01.02</td>\n",
       "      <td>09:00:00</td>\n",
       "      <td>1225.05</td>\n",
       "      <td>1228.42</td>\n",
       "      <td>1220.52</td>\n",
       "      <td>1222.86</td>\n",
       "      <td>3523</td>\n",
       "      <td>0</td>\n",
       "      <td>0</td>\n",
       "    </tr>\n",
       "    <tr>\n",
       "      <th>1</th>\n",
       "      <td>2014.01.02</td>\n",
       "      <td>10:00:00</td>\n",
       "      <td>1222.86</td>\n",
       "      <td>1223.91</td>\n",
       "      <td>1219.66</td>\n",
       "      <td>1221.65</td>\n",
       "      <td>2353</td>\n",
       "      <td>0</td>\n",
       "      <td>0</td>\n",
       "    </tr>\n",
       "    <tr>\n",
       "      <th>2</th>\n",
       "      <td>2014.01.02</td>\n",
       "      <td>11:00:00</td>\n",
       "      <td>1221.66</td>\n",
       "      <td>1221.96</td>\n",
       "      <td>1219.10</td>\n",
       "      <td>1221.26</td>\n",
       "      <td>2038</td>\n",
       "      <td>0</td>\n",
       "      <td>0</td>\n",
       "    </tr>\n",
       "    <tr>\n",
       "      <th>3</th>\n",
       "      <td>2014.01.02</td>\n",
       "      <td>12:00:00</td>\n",
       "      <td>1221.29</td>\n",
       "      <td>1221.83</td>\n",
       "      <td>1219.26</td>\n",
       "      <td>1221.25</td>\n",
       "      <td>1500</td>\n",
       "      <td>0</td>\n",
       "      <td>0</td>\n",
       "    </tr>\n",
       "    <tr>\n",
       "      <th>4</th>\n",
       "      <td>2014.01.02</td>\n",
       "      <td>13:00:00</td>\n",
       "      <td>1221.25</td>\n",
       "      <td>1221.46</td>\n",
       "      <td>1216.51</td>\n",
       "      <td>1217.95</td>\n",
       "      <td>2973</td>\n",
       "      <td>0</td>\n",
       "      <td>0</td>\n",
       "    </tr>\n",
       "    <tr>\n",
       "      <th>...</th>\n",
       "      <td>...</td>\n",
       "      <td>...</td>\n",
       "      <td>...</td>\n",
       "      <td>...</td>\n",
       "      <td>...</td>\n",
       "      <td>...</td>\n",
       "      <td>...</td>\n",
       "      <td>...</td>\n",
       "      <td>...</td>\n",
       "    </tr>\n",
       "    <tr>\n",
       "      <th>58880</th>\n",
       "      <td>2023.12.07</td>\n",
       "      <td>04:00:00</td>\n",
       "      <td>2026.08</td>\n",
       "      <td>2029.87</td>\n",
       "      <td>2026.04</td>\n",
       "      <td>2028.95</td>\n",
       "      <td>3594</td>\n",
       "      <td>0</td>\n",
       "      <td>30</td>\n",
       "    </tr>\n",
       "    <tr>\n",
       "      <th>58881</th>\n",
       "      <td>2023.12.07</td>\n",
       "      <td>05:00:00</td>\n",
       "      <td>2028.90</td>\n",
       "      <td>2029.78</td>\n",
       "      <td>2026.36</td>\n",
       "      <td>2026.76</td>\n",
       "      <td>3409</td>\n",
       "      <td>0</td>\n",
       "      <td>26</td>\n",
       "    </tr>\n",
       "    <tr>\n",
       "      <th>58882</th>\n",
       "      <td>2023.12.07</td>\n",
       "      <td>06:00:00</td>\n",
       "      <td>2026.70</td>\n",
       "      <td>2026.95</td>\n",
       "      <td>2025.24</td>\n",
       "      <td>2025.92</td>\n",
       "      <td>2731</td>\n",
       "      <td>0</td>\n",
       "      <td>26</td>\n",
       "    </tr>\n",
       "    <tr>\n",
       "      <th>58883</th>\n",
       "      <td>2023.12.07</td>\n",
       "      <td>07:00:00</td>\n",
       "      <td>2025.83</td>\n",
       "      <td>2027.23</td>\n",
       "      <td>2025.11</td>\n",
       "      <td>2026.66</td>\n",
       "      <td>3197</td>\n",
       "      <td>0</td>\n",
       "      <td>26</td>\n",
       "    </tr>\n",
       "    <tr>\n",
       "      <th>58884</th>\n",
       "      <td>2023.12.07</td>\n",
       "      <td>08:00:00</td>\n",
       "      <td>2026.72</td>\n",
       "      <td>2029.07</td>\n",
       "      <td>2026.15</td>\n",
       "      <td>2027.52</td>\n",
       "      <td>2919</td>\n",
       "      <td>0</td>\n",
       "      <td>26</td>\n",
       "    </tr>\n",
       "  </tbody>\n",
       "</table>\n",
       "<p>58885 rows × 9 columns</p>\n",
       "</div>"
      ],
      "text/plain": [
       "           <DATE>    <TIME>   <OPEN>   <HIGH>    <LOW>  <CLOSE>  <TICKVOL>  \\\n",
       "0      2014.01.02  09:00:00  1225.05  1228.42  1220.52  1222.86       3523   \n",
       "1      2014.01.02  10:00:00  1222.86  1223.91  1219.66  1221.65       2353   \n",
       "2      2014.01.02  11:00:00  1221.66  1221.96  1219.10  1221.26       2038   \n",
       "3      2014.01.02  12:00:00  1221.29  1221.83  1219.26  1221.25       1500   \n",
       "4      2014.01.02  13:00:00  1221.25  1221.46  1216.51  1217.95       2973   \n",
       "...           ...       ...      ...      ...      ...      ...        ...   \n",
       "58880  2023.12.07  04:00:00  2026.08  2029.87  2026.04  2028.95       3594   \n",
       "58881  2023.12.07  05:00:00  2028.90  2029.78  2026.36  2026.76       3409   \n",
       "58882  2023.12.07  06:00:00  2026.70  2026.95  2025.24  2025.92       2731   \n",
       "58883  2023.12.07  07:00:00  2025.83  2027.23  2025.11  2026.66       3197   \n",
       "58884  2023.12.07  08:00:00  2026.72  2029.07  2026.15  2027.52       2919   \n",
       "\n",
       "       <VOL>  <SPREAD>  \n",
       "0          0         0  \n",
       "1          0         0  \n",
       "2          0         0  \n",
       "3          0         0  \n",
       "4          0         0  \n",
       "...      ...       ...  \n",
       "58880      0        30  \n",
       "58881      0        26  \n",
       "58882      0        26  \n",
       "58883      0        26  \n",
       "58884      0        26  \n",
       "\n",
       "[58885 rows x 9 columns]"
      ]
     },
     "execution_count": 2,
     "metadata": {},
     "output_type": "execute_result"
    }
   ],
   "source": [
    "df = pd.read_csv('./GOLD_H1_201401020900_202312070800.csv',sep='\\t')\n",
    "df"
   ]
  },
  {
   "cell_type": "code",
   "execution_count": 3,
   "metadata": {},
   "outputs": [
    {
     "data": {
      "text/plain": [
       "Index(['<DATE>', '<TIME>', '<OPEN>', '<HIGH>', '<LOW>', '<CLOSE>', '<TICKVOL>',\n",
       "       '<VOL>', '<SPREAD>'],\n",
       "      dtype='object')"
      ]
     },
     "execution_count": 3,
     "metadata": {},
     "output_type": "execute_result"
    }
   ],
   "source": [
    "df.columns"
   ]
  },
  {
   "cell_type": "code",
   "execution_count": 4,
   "metadata": {},
   "outputs": [
    {
     "data": {
      "text/html": [
       "<div>\n",
       "<style scoped>\n",
       "    .dataframe tbody tr th:only-of-type {\n",
       "        vertical-align: middle;\n",
       "    }\n",
       "\n",
       "    .dataframe tbody tr th {\n",
       "        vertical-align: top;\n",
       "    }\n",
       "\n",
       "    .dataframe thead th {\n",
       "        text-align: right;\n",
       "    }\n",
       "</style>\n",
       "<table border=\"1\" class=\"dataframe\">\n",
       "  <thead>\n",
       "    <tr style=\"text-align: right;\">\n",
       "      <th></th>\n",
       "      <th>&lt;OPEN&gt;</th>\n",
       "      <th>&lt;HIGH&gt;</th>\n",
       "      <th>&lt;LOW&gt;</th>\n",
       "      <th>&lt;CLOSE&gt;</th>\n",
       "      <th>&lt;TICKVOL&gt;</th>\n",
       "      <th>&lt;VOL&gt;</th>\n",
       "      <th>&lt;SPREAD&gt;</th>\n",
       "    </tr>\n",
       "  </thead>\n",
       "  <tbody>\n",
       "    <tr>\n",
       "      <th>count</th>\n",
       "      <td>58885.000000</td>\n",
       "      <td>58885.000000</td>\n",
       "      <td>58885.000000</td>\n",
       "      <td>58885.000000</td>\n",
       "      <td>58885.000000</td>\n",
       "      <td>5.888500e+04</td>\n",
       "      <td>58885.000000</td>\n",
       "    </tr>\n",
       "    <tr>\n",
       "      <th>mean</th>\n",
       "      <td>1486.987253</td>\n",
       "      <td>1488.787756</td>\n",
       "      <td>1485.156028</td>\n",
       "      <td>1487.002351</td>\n",
       "      <td>4387.026730</td>\n",
       "      <td>5.616019e+13</td>\n",
       "      <td>30.835561</td>\n",
       "    </tr>\n",
       "    <tr>\n",
       "      <th>std</th>\n",
       "      <td>291.542513</td>\n",
       "      <td>292.010318</td>\n",
       "      <td>291.025572</td>\n",
       "      <td>291.548730</td>\n",
       "      <td>4309.246894</td>\n",
       "      <td>2.763920e+14</td>\n",
       "      <td>11.246721</td>\n",
       "    </tr>\n",
       "    <tr>\n",
       "      <th>min</th>\n",
       "      <td>1049.960000</td>\n",
       "      <td>1050.580000</td>\n",
       "      <td>1046.290000</td>\n",
       "      <td>1049.960000</td>\n",
       "      <td>1.000000</td>\n",
       "      <td>0.000000e+00</td>\n",
       "      <td>0.000000</td>\n",
       "    </tr>\n",
       "    <tr>\n",
       "      <th>25%</th>\n",
       "      <td>1245.190000</td>\n",
       "      <td>1246.470000</td>\n",
       "      <td>1244.010000</td>\n",
       "      <td>1245.190000</td>\n",
       "      <td>1674.000000</td>\n",
       "      <td>0.000000e+00</td>\n",
       "      <td>25.000000</td>\n",
       "    </tr>\n",
       "    <tr>\n",
       "      <th>50%</th>\n",
       "      <td>1327.810000</td>\n",
       "      <td>1329.130000</td>\n",
       "      <td>1326.510000</td>\n",
       "      <td>1327.800000</td>\n",
       "      <td>3215.000000</td>\n",
       "      <td>0.000000e+00</td>\n",
       "      <td>32.000000</td>\n",
       "    </tr>\n",
       "    <tr>\n",
       "      <th>75%</th>\n",
       "      <td>1792.230000</td>\n",
       "      <td>1794.170000</td>\n",
       "      <td>1790.290000</td>\n",
       "      <td>1792.250000</td>\n",
       "      <td>5495.000000</td>\n",
       "      <td>0.000000e+00</td>\n",
       "      <td>38.000000</td>\n",
       "    </tr>\n",
       "    <tr>\n",
       "      <th>max</th>\n",
       "      <td>2117.400000</td>\n",
       "      <td>2144.630000</td>\n",
       "      <td>2090.600000</td>\n",
       "      <td>2117.370000</td>\n",
       "      <td>102129.000000</td>\n",
       "      <td>4.009700e+15</td>\n",
       "      <td>397.000000</td>\n",
       "    </tr>\n",
       "  </tbody>\n",
       "</table>\n",
       "</div>"
      ],
      "text/plain": [
       "             <OPEN>        <HIGH>         <LOW>       <CLOSE>      <TICKVOL>  \\\n",
       "count  58885.000000  58885.000000  58885.000000  58885.000000   58885.000000   \n",
       "mean    1486.987253   1488.787756   1485.156028   1487.002351    4387.026730   \n",
       "std      291.542513    292.010318    291.025572    291.548730    4309.246894   \n",
       "min     1049.960000   1050.580000   1046.290000   1049.960000       1.000000   \n",
       "25%     1245.190000   1246.470000   1244.010000   1245.190000    1674.000000   \n",
       "50%     1327.810000   1329.130000   1326.510000   1327.800000    3215.000000   \n",
       "75%     1792.230000   1794.170000   1790.290000   1792.250000    5495.000000   \n",
       "max     2117.400000   2144.630000   2090.600000   2117.370000  102129.000000   \n",
       "\n",
       "              <VOL>      <SPREAD>  \n",
       "count  5.888500e+04  58885.000000  \n",
       "mean   5.616019e+13     30.835561  \n",
       "std    2.763920e+14     11.246721  \n",
       "min    0.000000e+00      0.000000  \n",
       "25%    0.000000e+00     25.000000  \n",
       "50%    0.000000e+00     32.000000  \n",
       "75%    0.000000e+00     38.000000  \n",
       "max    4.009700e+15    397.000000  "
      ]
     },
     "execution_count": 4,
     "metadata": {},
     "output_type": "execute_result"
    }
   ],
   "source": [
    "df.describe()"
   ]
  },
  {
   "cell_type": "code",
   "execution_count": 5,
   "metadata": {},
   "outputs": [
    {
     "data": {
      "image/png": "[encoded data removed]",
      "text/plain": [
       "<Figure size 640x480 with 2 Axes>"
      ]
     },
     "metadata": {},
     "output_type": "display_data"
    }
   ],
   "source": [
    "import seaborn as sns\n",
    "import matplotlib.pyplot as plt\n",
    "\n",
    "correlation_matrix = df.drop([\"<DATE>\", \"<TIME>\"], axis=1).corr()\n",
    "sns.heatmap(correlation_matrix, annot=True, cmap='coolwarm')\n",
    "plt.title('Correlation Matrix')\n",
    "plt.show()\n"
   ]
  },
  {
   "cell_type": "code",
   "execution_count": 6,
   "metadata": {},
   "outputs": [
    {
     "data": {
      "text/plain": [
       "<DATE>       0\n",
       "<TIME>       0\n",
       "<OPEN>       0\n",
       "<HIGH>       0\n",
       "<LOW>        0\n",
       "<CLOSE>      0\n",
       "<TICKVOL>    0\n",
       "<VOL>        0\n",
       "<SPREAD>     0\n",
       "dtype: int64"
      ]
     },
     "execution_count": 6,
     "metadata": {},
     "output_type": "execute_result"
    }
   ],
   "source": [
    "df.isnull().sum()"
   ]
  },
  {
   "cell_type": "code",
   "execution_count": 7,
   "metadata": {},
   "outputs": [
    {
     "name": "stdout",
     "output_type": "stream",
     "text": [
      "<DATE> 2565\n",
      "<TIME> 24\n",
      "<OPEN> 37646\n",
      "<HIGH> 37691\n",
      "<LOW> 37842\n",
      "<CLOSE> 37667\n",
      "<TICKVOL> 13119\n",
      "<VOL> 2765\n",
      "<SPREAD> 148\n"
     ]
    }
   ],
   "source": [
    "for column in df.columns:\n",
    "    print(column, df[column].nunique())"
   ]
  },
  {
   "cell_type": "code",
   "execution_count": 8,
   "metadata": {},
   "outputs": [
    {
     "data": {
      "text/html": [
       "<div>\n",
       "<style scoped>\n",
       "    .dataframe tbody tr th:only-of-type {\n",
       "        vertical-align: middle;\n",
       "    }\n",
       "\n",
       "    .dataframe tbody tr th {\n",
       "        vertical-align: top;\n",
       "    }\n",
       "\n",
       "    .dataframe thead th {\n",
       "        text-align: right;\n",
       "    }\n",
       "</style>\n",
       "<table border=\"1\" class=\"dataframe\">\n",
       "  <thead>\n",
       "    <tr style=\"text-align: right;\">\n",
       "      <th></th>\n",
       "      <th>&lt;DATE&gt;</th>\n",
       "      <th>&lt;TIME&gt;</th>\n",
       "      <th>&lt;OPEN&gt;</th>\n",
       "      <th>&lt;HIGH&gt;</th>\n",
       "      <th>&lt;LOW&gt;</th>\n",
       "      <th>&lt;CLOSE&gt;</th>\n",
       "      <th>&lt;TICKVOL&gt;</th>\n",
       "      <th>&lt;VOL&gt;</th>\n",
       "      <th>&lt;SPREAD&gt;</th>\n",
       "    </tr>\n",
       "  </thead>\n",
       "  <tbody>\n",
       "    <tr>\n",
       "      <th>33882</th>\n",
       "      <td>2019.09.13</td>\n",
       "      <td>09:00:00</td>\n",
       "      <td>1497.41</td>\n",
       "      <td>1505.86</td>\n",
       "      <td>1497.31</td>\n",
       "      <td>1504.82</td>\n",
       "      <td>2659</td>\n",
       "      <td>0</td>\n",
       "      <td>31</td>\n",
       "    </tr>\n",
       "    <tr>\n",
       "      <th>15356</th>\n",
       "      <td>2016.07.22</td>\n",
       "      <td>10:00:00</td>\n",
       "      <td>1325.99</td>\n",
       "      <td>1326.12</td>\n",
       "      <td>1322.00</td>\n",
       "      <td>1323.17</td>\n",
       "      <td>7325</td>\n",
       "      <td>0</td>\n",
       "      <td>40</td>\n",
       "    </tr>\n",
       "    <tr>\n",
       "      <th>13535</th>\n",
       "      <td>2016.04.01</td>\n",
       "      <td>19:00:00</td>\n",
       "      <td>1214.01</td>\n",
       "      <td>1218.01</td>\n",
       "      <td>1212.93</td>\n",
       "      <td>1216.57</td>\n",
       "      <td>5551</td>\n",
       "      <td>0</td>\n",
       "      <td>40</td>\n",
       "    </tr>\n",
       "    <tr>\n",
       "      <th>46894</th>\n",
       "      <td>2021.11.29</td>\n",
       "      <td>08:00:00</td>\n",
       "      <td>1795.73</td>\n",
       "      <td>1796.62</td>\n",
       "      <td>1794.49</td>\n",
       "      <td>1794.85</td>\n",
       "      <td>2448</td>\n",
       "      <td>0</td>\n",
       "      <td>35</td>\n",
       "    </tr>\n",
       "    <tr>\n",
       "      <th>34563</th>\n",
       "      <td>2019.10.24</td>\n",
       "      <td>23:00:00</td>\n",
       "      <td>1501.91</td>\n",
       "      <td>1503.85</td>\n",
       "      <td>1501.91</td>\n",
       "      <td>1503.53</td>\n",
       "      <td>791</td>\n",
       "      <td>0</td>\n",
       "      <td>24</td>\n",
       "    </tr>\n",
       "    <tr>\n",
       "      <th>44746</th>\n",
       "      <td>2021.07.20</td>\n",
       "      <td>11:00:00</td>\n",
       "      <td>1813.71</td>\n",
       "      <td>1813.79</td>\n",
       "      <td>1811.51</td>\n",
       "      <td>1813.01</td>\n",
       "      <td>14643</td>\n",
       "      <td>0</td>\n",
       "      <td>26</td>\n",
       "    </tr>\n",
       "    <tr>\n",
       "      <th>28040</th>\n",
       "      <td>2018.09.17</td>\n",
       "      <td>03:00:00</td>\n",
       "      <td>1193.30</td>\n",
       "      <td>1193.80</td>\n",
       "      <td>1192.69</td>\n",
       "      <td>1193.72</td>\n",
       "      <td>934</td>\n",
       "      <td>0</td>\n",
       "      <td>30</td>\n",
       "    </tr>\n",
       "    <tr>\n",
       "      <th>52011</th>\n",
       "      <td>2022.10.10</td>\n",
       "      <td>13:00:00</td>\n",
       "      <td>1680.36</td>\n",
       "      <td>1681.19</td>\n",
       "      <td>1677.43</td>\n",
       "      <td>1679.12</td>\n",
       "      <td>4966</td>\n",
       "      <td>0</td>\n",
       "      <td>25</td>\n",
       "    </tr>\n",
       "    <tr>\n",
       "      <th>50223</th>\n",
       "      <td>2022.06.22</td>\n",
       "      <td>15:00:00</td>\n",
       "      <td>1836.38</td>\n",
       "      <td>1846.65</td>\n",
       "      <td>1836.04</td>\n",
       "      <td>1844.59</td>\n",
       "      <td>9421</td>\n",
       "      <td>0</td>\n",
       "      <td>25</td>\n",
       "    </tr>\n",
       "    <tr>\n",
       "      <th>30477</th>\n",
       "      <td>2019.02.15</td>\n",
       "      <td>16:00:00</td>\n",
       "      <td>1317.36</td>\n",
       "      <td>1319.85</td>\n",
       "      <td>1316.23</td>\n",
       "      <td>1316.73</td>\n",
       "      <td>4116</td>\n",
       "      <td>0</td>\n",
       "      <td>26</td>\n",
       "    </tr>\n",
       "  </tbody>\n",
       "</table>\n",
       "</div>"
      ],
      "text/plain": [
       "           <DATE>    <TIME>   <OPEN>   <HIGH>    <LOW>  <CLOSE>  <TICKVOL>  \\\n",
       "33882  2019.09.13  09:00:00  1497.41  1505.86  1497.31  1504.82       2659   \n",
       "15356  2016.07.22  10:00:00  1325.99  1326.12  1322.00  1323.17       7325   \n",
       "13535  2016.04.01  19:00:00  1214.01  1218.01  1212.93  1216.57       5551   \n",
       "46894  2021.11.29  08:00:00  1795.73  1796.62  1794.49  1794.85       2448   \n",
       "34563  2019.10.24  23:00:00  1501.91  1503.85  1501.91  1503.53        791   \n",
       "44746  2021.07.20  11:00:00  1813.71  1813.79  1811.51  1813.01      14643   \n",
       "28040  2018.09.17  03:00:00  1193.30  1193.80  1192.69  1193.72        934   \n",
       "52011  2022.10.10  13:00:00  1680.36  1681.19  1677.43  1679.12       4966   \n",
       "50223  2022.06.22  15:00:00  1836.38  1846.65  1836.04  1844.59       9421   \n",
       "30477  2019.02.15  16:00:00  1317.36  1319.85  1316.23  1316.73       4116   \n",
       "\n",
       "       <VOL>  <SPREAD>  \n",
       "33882      0        31  \n",
       "15356      0        40  \n",
       "13535      0        40  \n",
       "46894      0        35  \n",
       "34563      0        24  \n",
       "44746      0        26  \n",
       "28040      0        30  \n",
       "52011      0        25  \n",
       "50223      0        25  \n",
       "30477      0        26  "
      ]
     },
     "execution_count": 8,
     "metadata": {},
     "output_type": "execute_result"
    }
   ],
   "source": [
    "df.sample(10)"
   ]
  },
  {
   "cell_type": "markdown",
   "metadata": {},
   "source": [
    "## Merge date and time"
   ]
  },
  {
   "cell_type": "code",
   "execution_count": 9,
   "metadata": {},
   "outputs": [
    {
     "data": {
      "text/html": [
       "<div>\n",
       "<style scoped>\n",
       "    .dataframe tbody tr th:only-of-type {\n",
       "        vertical-align: middle;\n",
       "    }\n",
       "\n",
       "    .dataframe tbody tr th {\n",
       "        vertical-align: top;\n",
       "    }\n",
       "\n",
       "    .dataframe thead th {\n",
       "        text-align: right;\n",
       "    }\n",
       "</style>\n",
       "<table border=\"1\" class=\"dataframe\">\n",
       "  <thead>\n",
       "    <tr style=\"text-align: right;\">\n",
       "      <th></th>\n",
       "      <th>&lt;OPEN&gt;</th>\n",
       "      <th>&lt;HIGH&gt;</th>\n",
       "      <th>&lt;LOW&gt;</th>\n",
       "      <th>&lt;CLOSE&gt;</th>\n",
       "      <th>&lt;TICKVOL&gt;</th>\n",
       "      <th>&lt;VOL&gt;</th>\n",
       "      <th>&lt;SPREAD&gt;</th>\n",
       "    </tr>\n",
       "    <tr>\n",
       "      <th>&lt;DATETIME&gt;</th>\n",
       "      <th></th>\n",
       "      <th></th>\n",
       "      <th></th>\n",
       "      <th></th>\n",
       "      <th></th>\n",
       "      <th></th>\n",
       "      <th></th>\n",
       "    </tr>\n",
       "  </thead>\n",
       "  <tbody>\n",
       "    <tr>\n",
       "      <th>2014-01-02 09:00:00</th>\n",
       "      <td>1225.05</td>\n",
       "      <td>1228.42</td>\n",
       "      <td>1220.52</td>\n",
       "      <td>1222.86</td>\n",
       "      <td>3523</td>\n",
       "      <td>0</td>\n",
       "      <td>0</td>\n",
       "    </tr>\n",
       "    <tr>\n",
       "      <th>2014-01-02 10:00:00</th>\n",
       "      <td>1222.86</td>\n",
       "      <td>1223.91</td>\n",
       "      <td>1219.66</td>\n",
       "      <td>1221.65</td>\n",
       "      <td>2353</td>\n",
       "      <td>0</td>\n",
       "      <td>0</td>\n",
       "    </tr>\n",
       "    <tr>\n",
       "      <th>2014-01-02 11:00:00</th>\n",
       "      <td>1221.66</td>\n",
       "      <td>1221.96</td>\n",
       "      <td>1219.10</td>\n",
       "      <td>1221.26</td>\n",
       "      <td>2038</td>\n",
       "      <td>0</td>\n",
       "      <td>0</td>\n",
       "    </tr>\n",
       "    <tr>\n",
       "      <th>2014-01-02 12:00:00</th>\n",
       "      <td>1221.29</td>\n",
       "      <td>1221.83</td>\n",
       "      <td>1219.26</td>\n",
       "      <td>1221.25</td>\n",
       "      <td>1500</td>\n",
       "      <td>0</td>\n",
       "      <td>0</td>\n",
       "    </tr>\n",
       "    <tr>\n",
       "      <th>2014-01-02 13:00:00</th>\n",
       "      <td>1221.25</td>\n",
       "      <td>1221.46</td>\n",
       "      <td>1216.51</td>\n",
       "      <td>1217.95</td>\n",
       "      <td>2973</td>\n",
       "      <td>0</td>\n",
       "      <td>0</td>\n",
       "    </tr>\n",
       "    <tr>\n",
       "      <th>...</th>\n",
       "      <td>...</td>\n",
       "      <td>...</td>\n",
       "      <td>...</td>\n",
       "      <td>...</td>\n",
       "      <td>...</td>\n",
       "      <td>...</td>\n",
       "      <td>...</td>\n",
       "    </tr>\n",
       "    <tr>\n",
       "      <th>2023-12-07 04:00:00</th>\n",
       "      <td>2026.08</td>\n",
       "      <td>2029.87</td>\n",
       "      <td>2026.04</td>\n",
       "      <td>2028.95</td>\n",
       "      <td>3594</td>\n",
       "      <td>0</td>\n",
       "      <td>30</td>\n",
       "    </tr>\n",
       "    <tr>\n",
       "      <th>2023-12-07 05:00:00</th>\n",
       "      <td>2028.90</td>\n",
       "      <td>2029.78</td>\n",
       "      <td>2026.36</td>\n",
       "      <td>2026.76</td>\n",
       "      <td>3409</td>\n",
       "      <td>0</td>\n",
       "      <td>26</td>\n",
       "    </tr>\n",
       "    <tr>\n",
       "      <th>2023-12-07 06:00:00</th>\n",
       "      <td>2026.70</td>\n",
       "      <td>2026.95</td>\n",
       "      <td>2025.24</td>\n",
       "      <td>2025.92</td>\n",
       "      <td>2731</td>\n",
       "      <td>0</td>\n",
       "      <td>26</td>\n",
       "    </tr>\n",
       "    <tr>\n",
       "      <th>2023-12-07 07:00:00</th>\n",
       "      <td>2025.83</td>\n",
       "      <td>2027.23</td>\n",
       "      <td>2025.11</td>\n",
       "      <td>2026.66</td>\n",
       "      <td>3197</td>\n",
       "      <td>0</td>\n",
       "      <td>26</td>\n",
       "    </tr>\n",
       "    <tr>\n",
       "      <th>2023-12-07 08:00:00</th>\n",
       "      <td>2026.72</td>\n",
       "      <td>2029.07</td>\n",
       "      <td>2026.15</td>\n",
       "      <td>2027.52</td>\n",
       "      <td>2919</td>\n",
       "      <td>0</td>\n",
       "      <td>26</td>\n",
       "    </tr>\n",
       "  </tbody>\n",
       "</table>\n",
       "<p>58885 rows × 7 columns</p>\n",
       "</div>"
      ],
      "text/plain": [
       "                      <OPEN>   <HIGH>    <LOW>  <CLOSE>  <TICKVOL>  <VOL>  \\\n",
       "<DATETIME>                                                                  \n",
       "2014-01-02 09:00:00  1225.05  1228.42  1220.52  1222.86       3523      0   \n",
       "2014-01-02 10:00:00  1222.86  1223.91  1219.66  1221.65       2353      0   \n",
       "2014-01-02 11:00:00  1221.66  1221.96  1219.10  1221.26       2038      0   \n",
       "2014-01-02 12:00:00  1221.29  1221.83  1219.26  1221.25       1500      0   \n",
       "2014-01-02 13:00:00  1221.25  1221.46  1216.51  1217.95       2973      0   \n",
       "...                      ...      ...      ...      ...        ...    ...   \n",
       "2023-12-07 04:00:00  2026.08  2029.87  2026.04  2028.95       3594      0   \n",
       "2023-12-07 05:00:00  2028.90  2029.78  2026.36  2026.76       3409      0   \n",
       "2023-12-07 06:00:00  2026.70  2026.95  2025.24  2025.92       2731      0   \n",
       "2023-12-07 07:00:00  2025.83  2027.23  2025.11  2026.66       3197      0   \n",
       "2023-12-07 08:00:00  2026.72  2029.07  2026.15  2027.52       2919      0   \n",
       "\n",
       "                     <SPREAD>  \n",
       "<DATETIME>                     \n",
       "2014-01-02 09:00:00         0  \n",
       "2014-01-02 10:00:00         0  \n",
       "2014-01-02 11:00:00         0  \n",
       "2014-01-02 12:00:00         0  \n",
       "2014-01-02 13:00:00         0  \n",
       "...                       ...  \n",
       "2023-12-07 04:00:00        30  \n",
       "2023-12-07 05:00:00        26  \n",
       "2023-12-07 06:00:00        26  \n",
       "2023-12-07 07:00:00        26  \n",
       "2023-12-07 08:00:00        26  \n",
       "\n",
       "[58885 rows x 7 columns]"
      ]
     },
     "execution_count": 9,
     "metadata": {},
     "output_type": "execute_result"
    }
   ],
   "source": [
    "def convert_datetime(df):\n",
    "    df['<DATETIME>'] = pd.to_datetime(df['<DATE>'] + ' ' + df['<TIME>'], format='%Y.%m.%d %H:%M:%S')\n",
    "    df = df.drop([\"<DATE>\", \"<TIME>\"], axis=1)\n",
    "    return df\n",
    "\n",
    "df = convert_datetime(df)\n",
    "df.set_index('<DATETIME>', inplace=True)\n",
    "df"
   ]
  },
  {
   "cell_type": "markdown",
   "metadata": {},
   "source": [
    "# Resampling"
   ]
  },
  {
   "cell_type": "code",
   "execution_count": 10,
   "metadata": {},
   "outputs": [],
   "source": [
    "df = df.resample('D').mean().ffill()"
   ]
  },
  {
   "cell_type": "markdown",
   "metadata": {},
   "source": [
    "## Bad and unwanted column"
   ]
  },
  {
   "cell_type": "code",
   "execution_count": 11,
   "metadata": {},
   "outputs": [
    {
     "data": {
      "text/html": [
       "<div>\n",
       "<style scoped>\n",
       "    .dataframe tbody tr th:only-of-type {\n",
       "        vertical-align: middle;\n",
       "    }\n",
       "\n",
       "    .dataframe tbody tr th {\n",
       "        vertical-align: top;\n",
       "    }\n",
       "\n",
       "    .dataframe thead th {\n",
       "        text-align: right;\n",
       "    }\n",
       "</style>\n",
       "<table border=\"1\" class=\"dataframe\">\n",
       "  <thead>\n",
       "    <tr style=\"text-align: right;\">\n",
       "      <th></th>\n",
       "      <th>&lt;OPEN&gt;</th>\n",
       "      <th>&lt;HIGH&gt;</th>\n",
       "      <th>&lt;LOW&gt;</th>\n",
       "      <th>&lt;CLOSE&gt;</th>\n",
       "      <th>&lt;TICKVOL&gt;</th>\n",
       "      <th>&lt;VOL&gt;</th>\n",
       "      <th>&lt;SPREAD&gt;</th>\n",
       "    </tr>\n",
       "    <tr>\n",
       "      <th>&lt;DATETIME&gt;</th>\n",
       "      <th></th>\n",
       "      <th></th>\n",
       "      <th></th>\n",
       "      <th></th>\n",
       "      <th></th>\n",
       "      <th></th>\n",
       "      <th></th>\n",
       "    </tr>\n",
       "  </thead>\n",
       "  <tbody>\n",
       "    <tr>\n",
       "      <th>2017-02-02</th>\n",
       "      <td>1216.279565</td>\n",
       "      <td>1217.935217</td>\n",
       "      <td>1214.795652</td>\n",
       "      <td>1216.558261</td>\n",
       "      <td>7774.782609</td>\n",
       "      <td>3.690217e+14</td>\n",
       "      <td>40.043478</td>\n",
       "    </tr>\n",
       "    <tr>\n",
       "      <th>2017-02-03</th>\n",
       "      <td>1214.880435</td>\n",
       "      <td>1216.430000</td>\n",
       "      <td>1213.453043</td>\n",
       "      <td>1215.083913</td>\n",
       "      <td>11744.304348</td>\n",
       "      <td>1.174300e+15</td>\n",
       "      <td>40.000000</td>\n",
       "    </tr>\n",
       "    <tr>\n",
       "      <th>2017-02-04</th>\n",
       "      <td>1214.880435</td>\n",
       "      <td>1216.430000</td>\n",
       "      <td>1213.453043</td>\n",
       "      <td>1215.083913</td>\n",
       "      <td>11744.304348</td>\n",
       "      <td>1.174300e+15</td>\n",
       "      <td>40.000000</td>\n",
       "    </tr>\n",
       "    <tr>\n",
       "      <th>2017-02-05</th>\n",
       "      <td>1214.880435</td>\n",
       "      <td>1216.430000</td>\n",
       "      <td>1213.453043</td>\n",
       "      <td>1215.083913</td>\n",
       "      <td>11744.304348</td>\n",
       "      <td>1.174300e+15</td>\n",
       "      <td>40.000000</td>\n",
       "    </tr>\n",
       "    <tr>\n",
       "      <th>2017-02-06</th>\n",
       "      <td>1225.754783</td>\n",
       "      <td>1227.383043</td>\n",
       "      <td>1224.963913</td>\n",
       "      <td>1226.436957</td>\n",
       "      <td>12286.434783</td>\n",
       "      <td>1.228561e+15</td>\n",
       "      <td>40.000000</td>\n",
       "    </tr>\n",
       "    <tr>\n",
       "      <th>...</th>\n",
       "      <td>...</td>\n",
       "      <td>...</td>\n",
       "      <td>...</td>\n",
       "      <td>...</td>\n",
       "      <td>...</td>\n",
       "      <td>...</td>\n",
       "      <td>...</td>\n",
       "    </tr>\n",
       "    <tr>\n",
       "      <th>2017-08-02</th>\n",
       "      <td>1267.572609</td>\n",
       "      <td>1268.653043</td>\n",
       "      <td>1266.302609</td>\n",
       "      <td>1267.483478</td>\n",
       "      <td>12787.391304</td>\n",
       "      <td>1.278739e+15</td>\n",
       "      <td>40.000000</td>\n",
       "    </tr>\n",
       "    <tr>\n",
       "      <th>2017-08-03</th>\n",
       "      <td>1264.863913</td>\n",
       "      <td>1266.009565</td>\n",
       "      <td>1263.676522</td>\n",
       "      <td>1264.957826</td>\n",
       "      <td>13078.173913</td>\n",
       "      <td>1.307817e+15</td>\n",
       "      <td>40.000000</td>\n",
       "    </tr>\n",
       "    <tr>\n",
       "      <th>2017-08-04</th>\n",
       "      <td>1264.928261</td>\n",
       "      <td>1265.805217</td>\n",
       "      <td>1263.670000</td>\n",
       "      <td>1264.483913</td>\n",
       "      <td>11828.652174</td>\n",
       "      <td>1.182865e+15</td>\n",
       "      <td>40.000000</td>\n",
       "    </tr>\n",
       "    <tr>\n",
       "      <th>2017-08-05</th>\n",
       "      <td>1264.928261</td>\n",
       "      <td>1265.805217</td>\n",
       "      <td>1263.670000</td>\n",
       "      <td>1264.483913</td>\n",
       "      <td>11828.652174</td>\n",
       "      <td>1.182865e+15</td>\n",
       "      <td>40.000000</td>\n",
       "    </tr>\n",
       "    <tr>\n",
       "      <th>2017-08-06</th>\n",
       "      <td>1264.928261</td>\n",
       "      <td>1265.805217</td>\n",
       "      <td>1263.670000</td>\n",
       "      <td>1264.483913</td>\n",
       "      <td>11828.652174</td>\n",
       "      <td>1.182865e+15</td>\n",
       "      <td>40.000000</td>\n",
       "    </tr>\n",
       "  </tbody>\n",
       "</table>\n",
       "<p>186 rows × 7 columns</p>\n",
       "</div>"
      ],
      "text/plain": [
       "                 <OPEN>       <HIGH>        <LOW>      <CLOSE>     <TICKVOL>  \\\n",
       "<DATETIME>                                                                     \n",
       "2017-02-02  1216.279565  1217.935217  1214.795652  1216.558261   7774.782609   \n",
       "2017-02-03  1214.880435  1216.430000  1213.453043  1215.083913  11744.304348   \n",
       "2017-02-04  1214.880435  1216.430000  1213.453043  1215.083913  11744.304348   \n",
       "2017-02-05  1214.880435  1216.430000  1213.453043  1215.083913  11744.304348   \n",
       "2017-02-06  1225.754783  1227.383043  1224.963913  1226.436957  12286.434783   \n",
       "...                 ...          ...          ...          ...           ...   \n",
       "2017-08-02  1267.572609  1268.653043  1266.302609  1267.483478  12787.391304   \n",
       "2017-08-03  1264.863913  1266.009565  1263.676522  1264.957826  13078.173913   \n",
       "2017-08-04  1264.928261  1265.805217  1263.670000  1264.483913  11828.652174   \n",
       "2017-08-05  1264.928261  1265.805217  1263.670000  1264.483913  11828.652174   \n",
       "2017-08-06  1264.928261  1265.805217  1263.670000  1264.483913  11828.652174   \n",
       "\n",
       "                   <VOL>   <SPREAD>  \n",
       "<DATETIME>                           \n",
       "2017-02-02  3.690217e+14  40.043478  \n",
       "2017-02-03  1.174300e+15  40.000000  \n",
       "2017-02-04  1.174300e+15  40.000000  \n",
       "2017-02-05  1.174300e+15  40.000000  \n",
       "2017-02-06  1.228561e+15  40.000000  \n",
       "...                  ...        ...  \n",
       "2017-08-02  1.278739e+15  40.000000  \n",
       "2017-08-03  1.307817e+15  40.000000  \n",
       "2017-08-04  1.182865e+15  40.000000  \n",
       "2017-08-05  1.182865e+15  40.000000  \n",
       "2017-08-06  1.182865e+15  40.000000  \n",
       "\n",
       "[186 rows x 7 columns]"
      ]
     },
     "execution_count": 11,
     "metadata": {},
     "output_type": "execute_result"
    }
   ],
   "source": [
    "df[df[\"<VOL>\"] != 0]"
   ]
  },
  {
   "cell_type": "code",
   "execution_count": 12,
   "metadata": {},
   "outputs": [
    {
     "data": {
      "text/html": [
       "<div>\n",
       "<style scoped>\n",
       "    .dataframe tbody tr th:only-of-type {\n",
       "        vertical-align: middle;\n",
       "    }\n",
       "\n",
       "    .dataframe tbody tr th {\n",
       "        vertical-align: top;\n",
       "    }\n",
       "\n",
       "    .dataframe thead th {\n",
       "        text-align: right;\n",
       "    }\n",
       "</style>\n",
       "<table border=\"1\" class=\"dataframe\">\n",
       "  <thead>\n",
       "    <tr style=\"text-align: right;\">\n",
       "      <th></th>\n",
       "      <th>&lt;OPEN&gt;</th>\n",
       "      <th>&lt;HIGH&gt;</th>\n",
       "      <th>&lt;LOW&gt;</th>\n",
       "      <th>&lt;CLOSE&gt;</th>\n",
       "    </tr>\n",
       "    <tr>\n",
       "      <th>&lt;DATETIME&gt;</th>\n",
       "      <th></th>\n",
       "      <th></th>\n",
       "      <th></th>\n",
       "      <th></th>\n",
       "    </tr>\n",
       "  </thead>\n",
       "  <tbody>\n",
       "    <tr>\n",
       "      <th>2014-01-02</th>\n",
       "      <td>1223.003333</td>\n",
       "      <td>1225.080000</td>\n",
       "      <td>1220.582000</td>\n",
       "      <td>1222.967333</td>\n",
       "    </tr>\n",
       "    <tr>\n",
       "      <th>2014-01-03</th>\n",
       "      <td>1231.911667</td>\n",
       "      <td>1234.353750</td>\n",
       "      <td>1230.357917</td>\n",
       "      <td>1232.418750</td>\n",
       "    </tr>\n",
       "    <tr>\n",
       "      <th>2014-01-04</th>\n",
       "      <td>1231.911667</td>\n",
       "      <td>1234.353750</td>\n",
       "      <td>1230.357917</td>\n",
       "      <td>1232.418750</td>\n",
       "    </tr>\n",
       "    <tr>\n",
       "      <th>2014-01-05</th>\n",
       "      <td>1231.911667</td>\n",
       "      <td>1234.353750</td>\n",
       "      <td>1230.357917</td>\n",
       "      <td>1232.418750</td>\n",
       "    </tr>\n",
       "    <tr>\n",
       "      <th>2014-01-06</th>\n",
       "      <td>1239.648261</td>\n",
       "      <td>1241.644783</td>\n",
       "      <td>1236.671739</td>\n",
       "      <td>1239.687391</td>\n",
       "    </tr>\n",
       "    <tr>\n",
       "      <th>...</th>\n",
       "      <td>...</td>\n",
       "      <td>...</td>\n",
       "      <td>...</td>\n",
       "      <td>...</td>\n",
       "    </tr>\n",
       "    <tr>\n",
       "      <th>2023-12-03</th>\n",
       "      <td>2046.710000</td>\n",
       "      <td>2050.298696</td>\n",
       "      <td>2044.820435</td>\n",
       "      <td>2048.136087</td>\n",
       "    </tr>\n",
       "    <tr>\n",
       "      <th>2023-12-04</th>\n",
       "      <td>2063.921739</td>\n",
       "      <td>2069.710435</td>\n",
       "      <td>2056.323913</td>\n",
       "      <td>2062.012609</td>\n",
       "    </tr>\n",
       "    <tr>\n",
       "      <th>2023-12-05</th>\n",
       "      <td>2027.166087</td>\n",
       "      <td>2030.146957</td>\n",
       "      <td>2024.371304</td>\n",
       "      <td>2026.744348</td>\n",
       "    </tr>\n",
       "    <tr>\n",
       "      <th>2023-12-06</th>\n",
       "      <td>2025.150870</td>\n",
       "      <td>2027.609565</td>\n",
       "      <td>2022.586522</td>\n",
       "      <td>2025.425217</td>\n",
       "    </tr>\n",
       "    <tr>\n",
       "      <th>2023-12-07</th>\n",
       "      <td>2026.908750</td>\n",
       "      <td>2028.685000</td>\n",
       "      <td>2025.781250</td>\n",
       "      <td>2027.162500</td>\n",
       "    </tr>\n",
       "  </tbody>\n",
       "</table>\n",
       "<p>3627 rows × 4 columns</p>\n",
       "</div>"
      ],
      "text/plain": [
       "                 <OPEN>       <HIGH>        <LOW>      <CLOSE>\n",
       "<DATETIME>                                                    \n",
       "2014-01-02  1223.003333  1225.080000  1220.582000  1222.967333\n",
       "2014-01-03  1231.911667  1234.353750  1230.357917  1232.418750\n",
       "2014-01-04  1231.911667  1234.353750  1230.357917  1232.418750\n",
       "2014-01-05  1231.911667  1234.353750  1230.357917  1232.418750\n",
       "2014-01-06  1239.648261  1241.644783  1236.671739  1239.687391\n",
       "...                 ...          ...          ...          ...\n",
       "2023-12-03  2046.710000  2050.298696  2044.820435  2048.136087\n",
       "2023-12-04  2063.921739  2069.710435  2056.323913  2062.012609\n",
       "2023-12-05  2027.166087  2030.146957  2024.371304  2026.744348\n",
       "2023-12-06  2025.150870  2027.609565  2022.586522  2025.425217\n",
       "2023-12-07  2026.908750  2028.685000  2025.781250  2027.162500\n",
       "\n",
       "[3627 rows x 4 columns]"
      ]
     },
     "execution_count": 12,
     "metadata": {},
     "output_type": "execute_result"
    }
   ],
   "source": [
    "df = df.drop([\"<VOL>\", \"<SPREAD>\", \"<TICKVOL>\"], axis=1)\n",
    "df"
   ]
  },
  {
   "cell_type": "markdown",
   "metadata": {},
   "source": [
    "# Drop  OPEN HIGH LOW because correlation is super high"
   ]
  },
  {
   "cell_type": "code",
   "execution_count": 13,
   "metadata": {},
   "outputs": [],
   "source": [
    "df = df.drop([\"<OPEN>\", \"<HIGH>\", \"<LOW>\"], axis=1)"
   ]
  },
  {
   "cell_type": "code",
   "execution_count": 14,
   "metadata": {},
   "outputs": [
    {
     "data": {
      "image/png": "[encoded data removed]",
      "text/plain": [
       "<Figure size 640x480 with 2 Axes>"
      ]
     },
     "metadata": {},
     "output_type": "display_data"
    }
   ],
   "source": [
    "sns.heatmap(df.corr(), annot=True, cmap='coolwarm')\n",
    "plt.title('Correlation Matrix')\n",
    "plt.show()"
   ]
  },
  {
   "cell_type": "markdown",
   "metadata": {},
   "source": [
    "# DATA OVERVIEW"
   ]
  },
  {
   "cell_type": "code",
   "execution_count": 15,
   "metadata": {},
   "outputs": [
    {
     "data": {
      "text/plain": [
       "[<matplotlib.lines.Line2D at 0x7fecb36469b0>]"
      ]
     },
     "execution_count": 15,
     "metadata": {},
     "output_type": "execute_result"
    },
    {
     "data": {
      "image/png": "[encoded data removed]",
      "text/plain": [
       "<Figure size 640x480 with 1 Axes>"
      ]
     },
     "metadata": {},
     "output_type": "display_data"
    }
   ],
   "source": [
    "plt.plot(df['<CLOSE>'])"
   ]
  },
  {
   "cell_type": "markdown",
   "metadata": {},
   "source": [
    "# Prepare data for supervised learning"
   ]
  },
  {
   "cell_type": "code",
   "execution_count": 16,
   "metadata": {},
   "outputs": [],
   "source": [
    "def create_features(df, label=None):\n",
    "    df['date'] = df.index\n",
    "    df['hour'] = df['date'].dt.hour\n",
    "    df['dayofweek'] = df['date'].dt.dayofweek\n",
    "    df['quarter'] = df['date'].dt.quarter\n",
    "    df['month'] = df['date'].dt.month\n",
    "    df['year'] = df['date'].dt.year\n",
    "    df['dayofyear'] = df['date'].dt.dayofyear\n",
    "    df['dayofmonth'] = df['date'].dt.day\n",
    "    \n",
    "    X = df[['hour','dayofweek','quarter','month','year',\n",
    "           'dayofyear','dayofmonth']]\n",
    "    if label:\n",
    "        y = df[label]\n",
    "        return X, y\n",
    "    return X\n",
    "X,Y = create_features(df, label='<CLOSE>')"
   ]
  },
  {
   "cell_type": "markdown",
   "metadata": {},
   "source": [
    "## Split dataset"
   ]
  },
  {
   "cell_type": "code",
   "execution_count": 17,
   "metadata": {},
   "outputs": [],
   "source": [
    "# split a univariate dataset into train/test sets\n",
    "x_train_full, x_test, y_train_full, y_test = train_test_split(X, Y, test_size = 0.1, random_state=42,shuffle=False) # test must not be shuffle\n",
    "x_train, x_val, y_train, y_val = train_test_split(x_train_full, y_train_full, test_size=0.3, random_state=42, shuffle=True)"
   ]
  },
  {
   "cell_type": "markdown",
   "metadata": {},
   "source": [
    "## XGB model"
   ]
  },
  {
   "cell_type": "code",
   "execution_count": 18,
   "metadata": {},
   "outputs": [],
   "source": [
    "xgb_params_grid = param_dist = {\n",
    "    'max_depth': [4,8,16,32,64],\n",
    "    'learning_rate': [ 0.01, 0.1 ],\n",
    "    'subsample': np.linspace(0.5, 1, 4),\n",
    "    'n_estimators': [25, 50, 100],\n",
    "}\n",
    "xgb_grid = GridSearchCV(XGBRegressor(), xgb_params_grid, n_jobs=-1, verbose=1)"
   ]
  },
  {
   "cell_type": "code",
   "execution_count": 19,
   "metadata": {},
   "outputs": [
    {
     "name": "stdout",
     "output_type": "stream",
     "text": [
      "Fitting 5 folds for each of 120 candidates, totalling 600 fits\n"
     ]
    },
    {
     "data": {
      "text/html": [
       "<style>#sk-container-id-1 {color: black;}#sk-container-id-1 pre{padding: 0;}#sk-container-id-1 div.sk-toggleable {background-color: white;}#sk-container-id-1 label.sk-toggleable__label {cursor: pointer;display: block;width: 100%;margin-bottom: 0;padding: 0.3em;box-sizing: border-box;text-align: center;}#sk-container-id-1 label.sk-toggleable__label-arrow:before {content: \"▸\";float: left;margin-right: 0.25em;color: #696969;}#sk-container-id-1 label.sk-toggleable__label-arrow:hover:before {color: black;}#sk-container-id-1 div.sk-estimator:hover label.sk-toggleable__label-arrow:before {color: black;}#sk-container-id-1 div.sk-toggleable__content {max-height: 0;max-width: 0;overflow: hidden;text-align: left;background-color: #f0f8ff;}#sk-container-id-1 div.sk-toggleable__content pre {margin: 0.2em;color: black;border-radius: 0.25em;background-color: #f0f8ff;}#sk-container-id-1 input.sk-toggleable__control:checked~div.sk-toggleable__content {max-height: 200px;max-width: 100%;overflow: auto;}#sk-container-id-1 input.sk-toggleable__control:checked~label.sk-toggleable__label-arrow:before {content: \"▾\";}#sk-container-id-1 div.sk-estimator input.sk-toggleable__control:checked~label.sk-toggleable__label {background-color: #d4ebff;}#sk-container-id-1 div.sk-label input.sk-toggleable__control:checked~label.sk-toggleable__label {background-color: #d4ebff;}#sk-container-id-1 input.sk-hidden--visually {border: 0;clip: rect(1px 1px 1px 1px);clip: rect(1px, 1px, 1px, 1px);height: 1px;margin: -1px;overflow: hidden;padding: 0;position: absolute;width: 1px;}#sk-container-id-1 div.sk-estimator {font-family: monospace;background-color: #f0f8ff;border: 1px dotted black;border-radius: 0.25em;box-sizing: border-box;margin-bottom: 0.5em;}#sk-container-id-1 div.sk-estimator:hover {background-color: #d4ebff;}#sk-container-id-1 div.sk-parallel-item::after {content: \"\";width: 100%;border-bottom: 1px solid gray;flex-grow: 1;}#sk-container-id-1 div.sk-label:hover label.sk-toggleable__label {background-color: #d4ebff;}#sk-container-id-1 div.sk-serial::before {content: \"\";position: absolute;border-left: 1px solid gray;box-sizing: border-box;top: 0;bottom: 0;left: 50%;z-index: 0;}#sk-container-id-1 div.sk-serial {display: flex;flex-direction: column;align-items: center;background-color: white;padding-right: 0.2em;padding-left: 0.2em;position: relative;}#sk-container-id-1 div.sk-item {position: relative;z-index: 1;}#sk-container-id-1 div.sk-parallel {display: flex;align-items: stretch;justify-content: center;background-color: white;position: relative;}#sk-container-id-1 div.sk-item::before, #sk-container-id-1 div.sk-parallel-item::before {content: \"\";position: absolute;border-left: 1px solid gray;box-sizing: border-box;top: 0;bottom: 0;left: 50%;z-index: -1;}#sk-container-id-1 div.sk-parallel-item {display: flex;flex-direction: column;z-index: 1;position: relative;background-color: white;}#sk-container-id-1 div.sk-parallel-item:first-child::after {align-self: flex-end;width: 50%;}#sk-container-id-1 div.sk-parallel-item:last-child::after {align-self: flex-start;width: 50%;}#sk-container-id-1 div.sk-parallel-item:only-child::after {width: 0;}#sk-container-id-1 div.sk-dashed-wrapped {border: 1px dashed gray;margin: 0 0.4em 0.5em 0.4em;box-sizing: border-box;padding-bottom: 0.4em;background-color: white;}#sk-container-id-1 div.sk-label label {font-family: monospace;font-weight: bold;display: inline-block;line-height: 1.2em;}#sk-container-id-1 div.sk-label-container {text-align: center;}#sk-container-id-1 div.sk-container {/* jupyter's `normalize.less` sets `[hidden] { display: none; }` but bootstrap.min.css set `[hidden] { display: none !important; }` so we also need the `!important` here to be able to override the default hidden behavior on the sphinx rendered scikit-learn.org. See: https://github.com/scikit-learn/scikit-learn/issues/21755 */display: inline-block !important;position: relative;}#sk-container-id-1 div.sk-text-repr-fallback {display: none;}</style><div id=\"sk-container-id-1\" class=\"sk-top-container\"><div class=\"sk-text-repr-fallback\"><pre>GridSearchCV(estimator=XGBRegressor(base_score=None, booster=None,\n",
       "                                    callbacks=None, colsample_bylevel=None,\n",
       "                                    colsample_bynode=None,\n",
       "                                    colsample_bytree=None, device=None,\n",
       "                                    early_stopping_rounds=None,\n",
       "                                    enable_categorical=False, eval_metric=None,\n",
       "                                    feature_types=None, gamma=None,\n",
       "                                    grow_policy=None, importance_type=None,\n",
       "                                    interaction_constraints=None,\n",
       "                                    learning_rate=None, max_bi...\n",
       "                                    max_depth=None, max_leaves=None,\n",
       "                                    min_child_weight=None, missing=nan,\n",
       "                                    monotone_constraints=None,\n",
       "                                    multi_strategy=None, n_estimators=None,\n",
       "                                    n_jobs=None, num_parallel_tree=None,\n",
       "                                    random_state=None, ...),\n",
       "             n_jobs=-1,\n",
       "             param_grid={&#x27;learning_rate&#x27;: [0.01, 0.1],\n",
       "                         &#x27;max_depth&#x27;: [4, 8, 16, 32, 64],\n",
       "                         &#x27;n_estimators&#x27;: [25, 50, 100],\n",
       "                         &#x27;subsample&#x27;: array([0.5       , 0.66666667, 0.83333333, 1.        ])},\n",
       "             verbose=1)</pre><b>In a Jupyter environment, please rerun this cell to show the HTML representation or trust the notebook. <br />On GitHub, the HTML representation is unable to render, please try loading this page with nbviewer.org.</b></div><div class=\"sk-container\" hidden><div class=\"sk-item sk-dashed-wrapped\"><div class=\"sk-label-container\"><div class=\"sk-label sk-toggleable\"><input class=\"sk-toggleable__control sk-hidden--visually\" id=\"sk-estimator-id-1\" type=\"checkbox\" ><label for=\"sk-estimator-id-1\" class=\"sk-toggleable__label sk-toggleable__label-arrow\">GridSearchCV</label><div class=\"sk-toggleable__content\"><pre>GridSearchCV(estimator=XGBRegressor(base_score=None, booster=None,\n",
       "                                    callbacks=None, colsample_bylevel=None,\n",
       "                                    colsample_bynode=None,\n",
       "                                    colsample_bytree=None, device=None,\n",
       "                                    early_stopping_rounds=None,\n",
       "                                    enable_categorical=False, eval_metric=None,\n",
       "                                    feature_types=None, gamma=None,\n",
       "                                    grow_policy=None, importance_type=None,\n",
       "                                    interaction_constraints=None,\n",
       "                                    learning_rate=None, max_bi...\n",
       "                                    max_depth=None, max_leaves=None,\n",
       "                                    min_child_weight=None, missing=nan,\n",
       "                                    monotone_constraints=None,\n",
       "                                    multi_strategy=None, n_estimators=None,\n",
       "                                    n_jobs=None, num_parallel_tree=None,\n",
       "                                    random_state=None, ...),\n",
       "             n_jobs=-1,\n",
       "             param_grid={&#x27;learning_rate&#x27;: [0.01, 0.1],\n",
       "                         &#x27;max_depth&#x27;: [4, 8, 16, 32, 64],\n",
       "                         &#x27;n_estimators&#x27;: [25, 50, 100],\n",
       "                         &#x27;subsample&#x27;: array([0.5       , 0.66666667, 0.83333333, 1.        ])},\n",
       "             verbose=1)</pre></div></div></div><div class=\"sk-parallel\"><div class=\"sk-parallel-item\"><div class=\"sk-item\"><div class=\"sk-label-container\"><div class=\"sk-label sk-toggleable\"><input class=\"sk-toggleable__control sk-hidden--visually\" id=\"sk-estimator-id-2\" type=\"checkbox\" ><label for=\"sk-estimator-id-2\" class=\"sk-toggleable__label sk-toggleable__label-arrow\">estimator: XGBRegressor</label><div class=\"sk-toggleable__content\"><pre>XGBRegressor(base_score=None, booster=None, callbacks=None,\n",
       "             colsample_bylevel=None, colsample_bynode=None,\n",
       "             colsample_bytree=None, device=None, early_stopping_rounds=None,\n",
       "             enable_categorical=False, eval_metric=None, feature_types=None,\n",
       "             gamma=None, grow_policy=None, importance_type=None,\n",
       "             interaction_constraints=None, learning_rate=None, max_bin=None,\n",
       "             max_cat_threshold=None, max_cat_to_onehot=None,\n",
       "             max_delta_step=None, max_depth=None, max_leaves=None,\n",
       "             min_child_weight=None, missing=nan, monotone_constraints=None,\n",
       "             multi_strategy=None, n_estimators=None, n_jobs=None,\n",
       "             num_parallel_tree=None, random_state=None, ...)</pre></div></div></div><div class=\"sk-serial\"><div class=\"sk-item\"><div class=\"sk-estimator sk-toggleable\"><input class=\"sk-toggleable__control sk-hidden--visually\" id=\"sk-estimator-id-3\" type=\"checkbox\" ><label for=\"sk-estimator-id-3\" class=\"sk-toggleable__label sk-toggleable__label-arrow\">XGBRegressor</label><div class=\"sk-toggleable__content\"><pre>XGBRegressor(base_score=None, booster=None, callbacks=None,\n",
       "             colsample_bylevel=None, colsample_bynode=None,\n",
       "             colsample_bytree=None, device=None, early_stopping_rounds=None,\n",
       "             enable_categorical=False, eval_metric=None, feature_types=None,\n",
       "             gamma=None, grow_policy=None, importance_type=None,\n",
       "             interaction_constraints=None, learning_rate=None, max_bin=None,\n",
       "             max_cat_threshold=None, max_cat_to_onehot=None,\n",
       "             max_delta_step=None, max_depth=None, max_leaves=None,\n",
       "             min_child_weight=None, missing=nan, monotone_constraints=None,\n",
       "             multi_strategy=None, n_estimators=None, n_jobs=None,\n",
       "             num_parallel_tree=None, random_state=None, ...)</pre></div></div></div></div></div></div></div></div></div></div>"
      ],
      "text/plain": [
       "GridSearchCV(estimator=XGBRegressor(base_score=None, booster=None,\n",
       "                                    callbacks=None, colsample_bylevel=None,\n",
       "                                    colsample_bynode=None,\n",
       "                                    colsample_bytree=None, device=None,\n",
       "                                    early_stopping_rounds=None,\n",
       "                                    enable_categorical=False, eval_metric=None,\n",
       "                                    feature_types=None, gamma=None,\n",
       "                                    grow_policy=None, importance_type=None,\n",
       "                                    interaction_constraints=None,\n",
       "                                    learning_rate=None, max_bi...\n",
       "                                    max_depth=None, max_leaves=None,\n",
       "                                    min_child_weight=None, missing=nan,\n",
       "                                    monotone_constraints=None,\n",
       "                                    multi_strategy=None, n_estimators=None,\n",
       "                                    n_jobs=None, num_parallel_tree=None,\n",
       "                                    random_state=None, ...),\n",
       "             n_jobs=-1,\n",
       "             param_grid={'learning_rate': [0.01, 0.1],\n",
       "                         'max_depth': [4, 8, 16, 32, 64],\n",
       "                         'n_estimators': [25, 50, 100],\n",
       "                         'subsample': array([0.5       , 0.66666667, 0.83333333, 1.        ])},\n",
       "             verbose=1)"
      ]
     },
     "execution_count": 19,
     "metadata": {},
     "output_type": "execute_result"
    }
   ],
   "source": [
    "xgb_grid.fit(x_train, y_train,\n",
    "        eval_set=[(x_val, y_val)],\n",
    "       verbose=False)"
   ]
  },
  {
   "cell_type": "code",
   "execution_count": 20,
   "metadata": {},
   "outputs": [],
   "source": [
    "y_pred_xgb = xgb_grid.predict(x_test)"
   ]
  },
  {
   "cell_type": "code",
   "execution_count": 21,
   "metadata": {},
   "outputs": [
    {
     "data": {
      "text/plain": [
       "{'learning_rate': 0.1,\n",
       " 'max_depth': 32,\n",
       " 'n_estimators': 100,\n",
       " 'subsample': 0.8333333333333333}"
      ]
     },
     "execution_count": 21,
     "metadata": {},
     "output_type": "execute_result"
    }
   ],
   "source": [
    "xgb_grid.best_params_"
   ]
  },
  {
   "cell_type": "markdown",
   "metadata": {},
   "source": [
    "## Random forrest"
   ]
  },
  {
   "cell_type": "code",
   "execution_count": 22,
   "metadata": {},
   "outputs": [],
   "source": [
    "rf_params_grid = {\n",
    "    'max_depth': [25,50,100,200],\n",
    "    'n_estimators': [25, 50, 100],\n",
    "}\n",
    "\n",
    "rf_grid = GridSearchCV(RandomForestRegressor(), rf_params_grid,cv=5, n_jobs=-1, verbose=1)"
   ]
  },
  {
   "cell_type": "code",
   "execution_count": 23,
   "metadata": {},
   "outputs": [
    {
     "name": "stdout",
     "output_type": "stream",
     "text": [
      "Fitting 5 folds for each of 12 candidates, totalling 60 fits\n"
     ]
    },
    {
     "data": {
      "text/html": [
       "<style>#sk-container-id-2 {color: black;}#sk-container-id-2 pre{padding: 0;}#sk-container-id-2 div.sk-toggleable {background-color: white;}#sk-container-id-2 label.sk-toggleable__label {cursor: pointer;display: block;width: 100%;margin-bottom: 0;padding: 0.3em;box-sizing: border-box;text-align: center;}#sk-container-id-2 label.sk-toggleable__label-arrow:before {content: \"▸\";float: left;margin-right: 0.25em;color: #696969;}#sk-container-id-2 label.sk-toggleable__label-arrow:hover:before {color: black;}#sk-container-id-2 div.sk-estimator:hover label.sk-toggleable__label-arrow:before {color: black;}#sk-container-id-2 div.sk-toggleable__content {max-height: 0;max-width: 0;overflow: hidden;text-align: left;background-color: #f0f8ff;}#sk-container-id-2 div.sk-toggleable__content pre {margin: 0.2em;color: black;border-radius: 0.25em;background-color: #f0f8ff;}#sk-container-id-2 input.sk-toggleable__control:checked~div.sk-toggleable__content {max-height: 200px;max-width: 100%;overflow: auto;}#sk-container-id-2 input.sk-toggleable__control:checked~label.sk-toggleable__label-arrow:before {content: \"▾\";}#sk-container-id-2 div.sk-estimator input.sk-toggleable__control:checked~label.sk-toggleable__label {background-color: #d4ebff;}#sk-container-id-2 div.sk-label input.sk-toggleable__control:checked~label.sk-toggleable__label {background-color: #d4ebff;}#sk-container-id-2 input.sk-hidden--visually {border: 0;clip: rect(1px 1px 1px 1px);clip: rect(1px, 1px, 1px, 1px);height: 1px;margin: -1px;overflow: hidden;padding: 0;position: absolute;width: 1px;}#sk-container-id-2 div.sk-estimator {font-family: monospace;background-color: #f0f8ff;border: 1px dotted black;border-radius: 0.25em;box-sizing: border-box;margin-bottom: 0.5em;}#sk-container-id-2 div.sk-estimator:hover {background-color: #d4ebff;}#sk-container-id-2 div.sk-parallel-item::after {content: \"\";width: 100%;border-bottom: 1px solid gray;flex-grow: 1;}#sk-container-id-2 div.sk-label:hover label.sk-toggleable__label {background-color: #d4ebff;}#sk-container-id-2 div.sk-serial::before {content: \"\";position: absolute;border-left: 1px solid gray;box-sizing: border-box;top: 0;bottom: 0;left: 50%;z-index: 0;}#sk-container-id-2 div.sk-serial {display: flex;flex-direction: column;align-items: center;background-color: white;padding-right: 0.2em;padding-left: 0.2em;position: relative;}#sk-container-id-2 div.sk-item {position: relative;z-index: 1;}#sk-container-id-2 div.sk-parallel {display: flex;align-items: stretch;justify-content: center;background-color: white;position: relative;}#sk-container-id-2 div.sk-item::before, #sk-container-id-2 div.sk-parallel-item::before {content: \"\";position: absolute;border-left: 1px solid gray;box-sizing: border-box;top: 0;bottom: 0;left: 50%;z-index: -1;}#sk-container-id-2 div.sk-parallel-item {display: flex;flex-direction: column;z-index: 1;position: relative;background-color: white;}#sk-container-id-2 div.sk-parallel-item:first-child::after {align-self: flex-end;width: 50%;}#sk-container-id-2 div.sk-parallel-item:last-child::after {align-self: flex-start;width: 50%;}#sk-container-id-2 div.sk-parallel-item:only-child::after {width: 0;}#sk-container-id-2 div.sk-dashed-wrapped {border: 1px dashed gray;margin: 0 0.4em 0.5em 0.4em;box-sizing: border-box;padding-bottom: 0.4em;background-color: white;}#sk-container-id-2 div.sk-label label {font-family: monospace;font-weight: bold;display: inline-block;line-height: 1.2em;}#sk-container-id-2 div.sk-label-container {text-align: center;}#sk-container-id-2 div.sk-container {/* jupyter's `normalize.less` sets `[hidden] { display: none; }` but bootstrap.min.css set `[hidden] { display: none !important; }` so we also need the `!important` here to be able to override the default hidden behavior on the sphinx rendered scikit-learn.org. See: https://github.com/scikit-learn/scikit-learn/issues/21755 */display: inline-block !important;position: relative;}#sk-container-id-2 div.sk-text-repr-fallback {display: none;}</style><div id=\"sk-container-id-2\" class=\"sk-top-container\"><div class=\"sk-text-repr-fallback\"><pre>GridSearchCV(cv=5, estimator=RandomForestRegressor(), n_jobs=-1,\n",
       "             param_grid={&#x27;max_depth&#x27;: [25, 50, 100, 200],\n",
       "                         &#x27;n_estimators&#x27;: [25, 50, 100]},\n",
       "             verbose=1)</pre><b>In a Jupyter environment, please rerun this cell to show the HTML representation or trust the notebook. <br />On GitHub, the HTML representation is unable to render, please try loading this page with nbviewer.org.</b></div><div class=\"sk-container\" hidden><div class=\"sk-item sk-dashed-wrapped\"><div class=\"sk-label-container\"><div class=\"sk-label sk-toggleable\"><input class=\"sk-toggleable__control sk-hidden--visually\" id=\"sk-estimator-id-4\" type=\"checkbox\" ><label for=\"sk-estimator-id-4\" class=\"sk-toggleable__label sk-toggleable__label-arrow\">GridSearchCV</label><div class=\"sk-toggleable__content\"><pre>GridSearchCV(cv=5, estimator=RandomForestRegressor(), n_jobs=-1,\n",
       "             param_grid={&#x27;max_depth&#x27;: [25, 50, 100, 200],\n",
       "                         &#x27;n_estimators&#x27;: [25, 50, 100]},\n",
       "             verbose=1)</pre></div></div></div><div class=\"sk-parallel\"><div class=\"sk-parallel-item\"><div class=\"sk-item\"><div class=\"sk-label-container\"><div class=\"sk-label sk-toggleable\"><input class=\"sk-toggleable__control sk-hidden--visually\" id=\"sk-estimator-id-5\" type=\"checkbox\" ><label for=\"sk-estimator-id-5\" class=\"sk-toggleable__label sk-toggleable__label-arrow\">estimator: RandomForestRegressor</label><div class=\"sk-toggleable__content\"><pre>RandomForestRegressor()</pre></div></div></div><div class=\"sk-serial\"><div class=\"sk-item\"><div class=\"sk-estimator sk-toggleable\"><input class=\"sk-toggleable__control sk-hidden--visually\" id=\"sk-estimator-id-6\" type=\"checkbox\" ><label for=\"sk-estimator-id-6\" class=\"sk-toggleable__label sk-toggleable__label-arrow\">RandomForestRegressor</label><div class=\"sk-toggleable__content\"><pre>RandomForestRegressor()</pre></div></div></div></div></div></div></div></div></div></div>"
      ],
      "text/plain": [
       "GridSearchCV(cv=5, estimator=RandomForestRegressor(), n_jobs=-1,\n",
       "             param_grid={'max_depth': [25, 50, 100, 200],\n",
       "                         'n_estimators': [25, 50, 100]},\n",
       "             verbose=1)"
      ]
     },
     "execution_count": 23,
     "metadata": {},
     "output_type": "execute_result"
    }
   ],
   "source": [
    "rf_grid.fit(x_train_full, y_train_full)"
   ]
  },
  {
   "cell_type": "code",
   "execution_count": 24,
   "metadata": {},
   "outputs": [],
   "source": [
    "y_pred_tree = rf_grid.predict(x_test)"
   ]
  },
  {
   "cell_type": "code",
   "execution_count": 25,
   "metadata": {},
   "outputs": [
    {
     "data": {
      "text/plain": [
       "{'max_depth': 200, 'n_estimators': 25}"
      ]
     },
     "execution_count": 25,
     "metadata": {},
     "output_type": "execute_result"
    }
   ],
   "source": [
    "rf_grid.best_params_"
   ]
  },
  {
   "cell_type": "markdown",
   "metadata": {},
   "source": [
    "# Linear regression"
   ]
  },
  {
   "cell_type": "code",
   "execution_count": 26,
   "metadata": {},
   "outputs": [
    {
     "name": "stdout",
     "output_type": "stream",
     "text": [
      "Fitting 5 folds for each of 2 candidates, totalling 10 fits\n"
     ]
    },
    {
     "data": {
      "text/html": [
       "<style>#sk-container-id-3 {color: black;}#sk-container-id-3 pre{padding: 0;}#sk-container-id-3 div.sk-toggleable {background-color: white;}#sk-container-id-3 label.sk-toggleable__label {cursor: pointer;display: block;width: 100%;margin-bottom: 0;padding: 0.3em;box-sizing: border-box;text-align: center;}#sk-container-id-3 label.sk-toggleable__label-arrow:before {content: \"▸\";float: left;margin-right: 0.25em;color: #696969;}#sk-container-id-3 label.sk-toggleable__label-arrow:hover:before {color: black;}#sk-container-id-3 div.sk-estimator:hover label.sk-toggleable__label-arrow:before {color: black;}#sk-container-id-3 div.sk-toggleable__content {max-height: 0;max-width: 0;overflow: hidden;text-align: left;background-color: #f0f8ff;}#sk-container-id-3 div.sk-toggleable__content pre {margin: 0.2em;color: black;border-radius: 0.25em;background-color: #f0f8ff;}#sk-container-id-3 input.sk-toggleable__control:checked~div.sk-toggleable__content {max-height: 200px;max-width: 100%;overflow: auto;}#sk-container-id-3 input.sk-toggleable__control:checked~label.sk-toggleable__label-arrow:before {content: \"▾\";}#sk-container-id-3 div.sk-estimator input.sk-toggleable__control:checked~label.sk-toggleable__label {background-color: #d4ebff;}#sk-container-id-3 div.sk-label input.sk-toggleable__control:checked~label.sk-toggleable__label {background-color: #d4ebff;}#sk-container-id-3 input.sk-hidden--visually {border: 0;clip: rect(1px 1px 1px 1px);clip: rect(1px, 1px, 1px, 1px);height: 1px;margin: -1px;overflow: hidden;padding: 0;position: absolute;width: 1px;}#sk-container-id-3 div.sk-estimator {font-family: monospace;background-color: #f0f8ff;border: 1px dotted black;border-radius: 0.25em;box-sizing: border-box;margin-bottom: 0.5em;}#sk-container-id-3 div.sk-estimator:hover {background-color: #d4ebff;}#sk-container-id-3 div.sk-parallel-item::after {content: \"\";width: 100%;border-bottom: 1px solid gray;flex-grow: 1;}#sk-container-id-3 div.sk-label:hover label.sk-toggleable__label {background-color: #d4ebff;}#sk-container-id-3 div.sk-serial::before {content: \"\";position: absolute;border-left: 1px solid gray;box-sizing: border-box;top: 0;bottom: 0;left: 50%;z-index: 0;}#sk-container-id-3 div.sk-serial {display: flex;flex-direction: column;align-items: center;background-color: white;padding-right: 0.2em;padding-left: 0.2em;position: relative;}#sk-container-id-3 div.sk-item {position: relative;z-index: 1;}#sk-container-id-3 div.sk-parallel {display: flex;align-items: stretch;justify-content: center;background-color: white;position: relative;}#sk-container-id-3 div.sk-item::before, #sk-container-id-3 div.sk-parallel-item::before {content: \"\";position: absolute;border-left: 1px solid gray;box-sizing: border-box;top: 0;bottom: 0;left: 50%;z-index: -1;}#sk-container-id-3 div.sk-parallel-item {display: flex;flex-direction: column;z-index: 1;position: relative;background-color: white;}#sk-container-id-3 div.sk-parallel-item:first-child::after {align-self: flex-end;width: 50%;}#sk-container-id-3 div.sk-parallel-item:last-child::after {align-self: flex-start;width: 50%;}#sk-container-id-3 div.sk-parallel-item:only-child::after {width: 0;}#sk-container-id-3 div.sk-dashed-wrapped {border: 1px dashed gray;margin: 0 0.4em 0.5em 0.4em;box-sizing: border-box;padding-bottom: 0.4em;background-color: white;}#sk-container-id-3 div.sk-label label {font-family: monospace;font-weight: bold;display: inline-block;line-height: 1.2em;}#sk-container-id-3 div.sk-label-container {text-align: center;}#sk-container-id-3 div.sk-container {/* jupyter's `normalize.less` sets `[hidden] { display: none; }` but bootstrap.min.css set `[hidden] { display: none !important; }` so we also need the `!important` here to be able to override the default hidden behavior on the sphinx rendered scikit-learn.org. See: https://github.com/scikit-learn/scikit-learn/issues/21755 */display: inline-block !important;position: relative;}#sk-container-id-3 div.sk-text-repr-fallback {display: none;}</style><div id=\"sk-container-id-3\" class=\"sk-top-container\"><div class=\"sk-text-repr-fallback\"><pre>GridSearchCV(estimator=LinearRegression(), n_jobs=-1,\n",
       "             param_grid={&#x27;fit_intercept&#x27;: [True, False]}, verbose=1)</pre><b>In a Jupyter environment, please rerun this cell to show the HTML representation or trust the notebook. <br />On GitHub, the HTML representation is unable to render, please try loading this page with nbviewer.org.</b></div><div class=\"sk-container\" hidden><div class=\"sk-item sk-dashed-wrapped\"><div class=\"sk-label-container\"><div class=\"sk-label sk-toggleable\"><input class=\"sk-toggleable__control sk-hidden--visually\" id=\"sk-estimator-id-7\" type=\"checkbox\" ><label for=\"sk-estimator-id-7\" class=\"sk-toggleable__label sk-toggleable__label-arrow\">GridSearchCV</label><div class=\"sk-toggleable__content\"><pre>GridSearchCV(estimator=LinearRegression(), n_jobs=-1,\n",
       "             param_grid={&#x27;fit_intercept&#x27;: [True, False]}, verbose=1)</pre></div></div></div><div class=\"sk-parallel\"><div class=\"sk-parallel-item\"><div class=\"sk-item\"><div class=\"sk-label-container\"><div class=\"sk-label sk-toggleable\"><input class=\"sk-toggleable__control sk-hidden--visually\" id=\"sk-estimator-id-8\" type=\"checkbox\" ><label for=\"sk-estimator-id-8\" class=\"sk-toggleable__label sk-toggleable__label-arrow\">estimator: LinearRegression</label><div class=\"sk-toggleable__content\"><pre>LinearRegression()</pre></div></div></div><div class=\"sk-serial\"><div class=\"sk-item\"><div class=\"sk-estimator sk-toggleable\"><input class=\"sk-toggleable__control sk-hidden--visually\" id=\"sk-estimator-id-9\" type=\"checkbox\" ><label for=\"sk-estimator-id-9\" class=\"sk-toggleable__label sk-toggleable__label-arrow\">LinearRegression</label><div class=\"sk-toggleable__content\"><pre>LinearRegression()</pre></div></div></div></div></div></div></div></div></div></div>"
      ],
      "text/plain": [
       "GridSearchCV(estimator=LinearRegression(), n_jobs=-1,\n",
       "             param_grid={'fit_intercept': [True, False]}, verbose=1)"
      ]
     },
     "execution_count": 26,
     "metadata": {},
     "output_type": "execute_result"
    }
   ],
   "source": [
    "linear_params_grid = {\n",
    "    'fit_intercept': [True, False],\n",
    "}\n",
    "linear_grid = GridSearchCV(LinearRegression(), linear_params_grid, n_jobs=-1, verbose=1)\n",
    "linear_grid.fit(x_train_full, y_train_full)"
   ]
  },
  {
   "cell_type": "code",
   "execution_count": 27,
   "metadata": {},
   "outputs": [],
   "source": [
    "linear_pred = linear_grid.predict(x_test)"
   ]
  },
  {
   "cell_type": "code",
   "execution_count": 28,
   "metadata": {},
   "outputs": [
    {
     "data": {
      "text/plain": [
       "{'fit_intercept': True}"
      ]
     },
     "execution_count": 28,
     "metadata": {},
     "output_type": "execute_result"
    }
   ],
   "source": [
    "linear_grid.best_params_"
   ]
  },
  {
   "cell_type": "markdown",
   "metadata": {},
   "source": [
    "# Predicting a totally unseen data"
   ]
  },
  {
   "cell_type": "code",
   "execution_count": 29,
   "metadata": {},
   "outputs": [],
   "source": [
    "def showResult(y_pred):\n",
    "    print('Mean Absolute Error:', mean_absolute_error(y_test, y_pred))\n",
    "    print('Mean Squared Error:', mean_squared_error(y_test, y_pred))\n",
    "    print('R2 Score:', r2_score(y_test, y_pred))\n",
    "\n",
    "    plt.plot(pd.DataFrame({\"Predicted\":y_pred} ,index=y_test.index) , label='Predicted')\n",
    "    plt.plot(y_test, label='Real')\n",
    "    plt.legend()\n",
    "    plt.show()"
   ]
  },
  {
   "cell_type": "code",
   "execution_count": 30,
   "metadata": {},
   "outputs": [
    {
     "name": "stdout",
     "output_type": "stream",
     "text": [
      "Mean Absolute Error: 141.873305627641\n",
      "Mean Squared Error: 28037.292465068753\n",
      "R2 Score: -5.880117915793449\n"
     ]
    },
    {
     "data": {
      "image/png": "[encoded data removed]",
      "text/plain": [
       "<Figure size 640x480 with 1 Axes>"
      ]
     },
     "metadata": {},
     "output_type": "display_data"
    }
   ],
   "source": [
    "showResult(y_pred_xgb)"
   ]
  },
  {
   "cell_type": "code",
   "execution_count": 31,
   "metadata": {},
   "outputs": [
    {
     "name": "stdout",
     "output_type": "stream",
     "text": [
      "Mean Absolute Error: 142.02754801373416\n",
      "Mean Squared Error: 27969.206660502357\n",
      "R2 Score: -5.863410226761347\n"
     ]
    },
    {
     "data": {
      "image/png": "[encoded data removed]",
      "text/plain": [
       "<Figure size 640x480 with 1 Axes>"
      ]
     },
     "metadata": {},
     "output_type": "display_data"
    }
   ],
   "source": [
    "showResult(y_pred_tree)"
   ]
  },
  {
   "cell_type": "code",
   "execution_count": 32,
   "metadata": {},
   "outputs": [
    {
     "name": "stdout",
     "output_type": "stream",
     "text": [
      "Mean Absolute Error: 73.77623924329916\n",
      "Mean Squared Error: 7761.391528859623\n",
      "R2 Score: -0.9045807998658921\n"
     ]
    },
    {
     "data": {
      "image/png": "[encoded data removed]",
      "text/plain": [
       "<Figure size 640x480 with 1 Axes>"
      ]
     },
     "metadata": {},
     "output_type": "display_data"
    }
   ],
   "source": [
    "showResult(linear_pred)"
   ]
  }
 ],
 "metadata": {
  "kernelspec": {
   "display_name": "ML_Lab",
   "language": "python",
   "name": "python3"
  },
  "language_info": {
   "codemirror_mode": {
    "name": "ipython",
    "version": 3
   },
   "file_extension": ".py",
   "mimetype": "text/x-python",
   "name": "python",
   "nbconvert_exporter": "python",
   "pygments_lexer": "ipython3",
   "version": "3.10.13"
  }
 },
 "nbformat": 4,
 "nbformat_minor": 2
}
