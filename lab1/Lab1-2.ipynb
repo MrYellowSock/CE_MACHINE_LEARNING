{
 "cells": [
  {
   "cell_type": "markdown",
   "metadata": {},
   "source": [
    "# **LAB 1 - PART 2**\n",
    "- Data Exploration, Cleansing, and Transform\n",
    "- Remove variables with High Variable Correlation\n",
    "- Remove Variables with High p-value according to Chi-square"
   ]
  },
  {
   "cell_type": "markdown",
   "metadata": {},
   "source": [
    "### Import tools"
   ]
  },
  {
   "cell_type": "code",
   "execution_count": null,
   "metadata": {},
   "outputs": [],
   "source": [
    "import"
   ]
  },
  {
   "cell_type": "markdown",
   "metadata": {},
   "source": [
    "## **1. Data Exploration**\n",
    "Read the Data_example.csv files\n",
    "<details>\n",
    "<summary>\n",
    "<font size=\"3\" color=\"Yellow\">\n",
    "<b>Columns Information</b>\n",
    "</font>\n",
    "</summary>\n",
    "\n",
    "</br>There are 25 variables:\n",
    "\n",
    "- **ID**: ID of each client\n",
    "- **LIMIT_BAL**: Amount of given credit in NT dollars (includes individual and family/supplementary credit)\n",
    "- **SEX**: Gender (M, F)\n",
    "- **EDUCATION**: (graduate school, university, high school, others, unknown, unknown)\n",
    "- **MARRIAGE**: Marital status (married, single, others)\n",
    "- **AGE**: Age in years\n",
    "- **PAY_0**: Repayment status in September, 2005 (-1=pay duly, 1=payment delay for one month, 2=payment delay for two months, … 8=payment delay for eight months, 9=payment delay for nine months and above)\n",
    "- **PAY_2**: Repayment status in August, 2005 (scale same as above)\n",
    "- **PAY_3**: Repayment status in July, 2005 (scale same as above)\n",
    "- **PAY_4**: Repayment status in June, 2005 (scale same as above)\n",
    "- **PAY_5**: Repayment status in May, 2005 (scale same as above)\n",
    "- **PAY_6**: Repayment status in April, 2005 (scale same as above)\n",
    "- **BILL_AMT1**: Amount of bill statement in September, 2005 (NT dollar)\n",
    "- **BILL_AMT2**: Amount of bill statement in August, 2005 (NT dollar)\n",
    "- **BILL_AMT3**: Amount of bill statement in July, 2005 (NT dollar)\n",
    "- **BILL_AMT4**: Amount of bill statement in June, 2005 (NT dollar)\n",
    "- **BILL_AMT5**: Amount of bill statement in May, 2005 (NT dollar)\n",
    "- **BILL_AMT6**: Amount of bill statement in April, 2005 (NT dollar)\n",
    "- **PAY_AMT1**: Amount of previous payment in September, 2005 (NT dollar)\n",
    "- **PAY_AMT2**: Amount of previous payment in August, 2005 (NT dollar)\n",
    "- **PAY_AMT3**: Amount of previous payment in July, 2005 (NT dollar)\n",
    "- **PAY_AMT4**: Amount of previous payment in June, 2005 (NT dollar)\n",
    "- **PAY_AMT5**: Amount of previous payment in May, 2005 (NT dollar)\n",
    "- **PAY_AMT6**: Amount of previous payment in April, 2005 (NT dollar)\n",
    "- **default**: Default payment (Y, N)\n",
    "\n",
    "<details>\n",
    "\n",
    "<summary>\n",
    "<font size=\"3\" color=\"green\">\n",
    "<b>Hints</b>\n",
    "</font>\n",
    "</summary>\n",
    "\n",
    "- `pd.read_csv()`\n",
    "</details>"
   ]
  },
  {
   "cell_type": "code",
   "execution_count": null,
   "metadata": {},
   "outputs": [],
   "source": [
    "### START CODE HERE ###\n",
    "df = None\n",
    "### END CODE HERE ###"
   ]
  },
  {
   "cell_type": "markdown",
   "metadata": {},
   "source": [
    "Remove column `ID`.\n",
    "<details>\n",
    "\n",
    "<summary>\n",
    "<font size=\"3\" color=\"green\">\n",
    "<b>Hints</b>\n",
    "</font>\n",
    "</summary>\n",
    "\n",
    "- `df.drop()`\n",
    "</details>"
   ]
  },
  {
   "cell_type": "code",
   "execution_count": null,
   "metadata": {},
   "outputs": [],
   "source": [
    "### START CODE HERE ###\n",
    "\n",
    "### END CODE HERE ###"
   ]
  },
  {
   "cell_type": "markdown",
   "metadata": {},
   "source": [
    "<details>\n",
    "\n",
    "<summary>\n",
    "<font size=\"3\" color=\"orange\">\n",
    "<b>Expected output</b>\n",
    "</font>\n",
    "</summary>\n",
    "\n",
    "- `\n",
    "Index(['LIMIT_BAL', 'SEX', 'EDUCATION', 'MARRIAGE', 'AGE', 'PAY_0', 'PAY_2',\n",
    "       'PAY_3', 'PAY_4', 'PAY_5', 'PAY_6', 'BILL_AMT1', 'BILL_AMT2',\n",
    "       'BILL_AMT3', 'BILL_AMT4', 'BILL_AMT5', 'BILL_AMT6', 'PAY_AMT1',\n",
    "       'PAY_AMT2', 'PAY_AMT3', 'PAY_AMT4', 'PAY_AMT5', 'PAY_AMT6', 'default '],\n",
    "      dtype='object')\n",
    "`\n",
    "\n",
    "</details>"
   ]
  },
  {
   "cell_type": "code",
   "execution_count": null,
   "metadata": {},
   "outputs": [],
   "source": [
    "df.columns"
   ]
  },
  {
   "cell_type": "markdown",
   "metadata": {},
   "source": [
    "#### Fill NA values\n",
    "Before proceeding with filling missing values, it is crucial to comprehend the significance of each numerical column in the dataset. This understanding will guide the appropriate method for handling missing data in a way that aligns with the context and characteristics of each column.\n",
    "<details>\n",
    "\n",
    "<summary>\n",
    "<font size=\"3\" color=\"green\">\n",
    "<b>Hints</b>\n",
    "</font>\n",
    "</summary>\n",
    "\n",
    "- `.fillna()`\n",
    "- Please explore the statistical values for each column (mean, median, min, max, etc.). Careful about column 'PAY_X'.\n",
    "</details>"
   ]
  },
  {
   "cell_type": "code",
   "execution_count": null,
   "metadata": {},
   "outputs": [],
   "source": [
    "### START CODE HERE ###\n",
    "\n",
    "\n",
    "\n",
    "\n",
    "\n",
    "### END CODE HERE ###"
   ]
  },
  {
   "cell_type": "markdown",
   "metadata": {},
   "source": [
    "<details>\n",
    "\n",
    "<summary>\n",
    "<font size=\"3\" color=\"orange\">\n",
    "<b>Expected output</b>\n",
    "</font>\n",
    "</summary>\n",
    "\n",
    "\n",
    "```\n",
    "RangeIndex: 30000 entries, 0 to 29999\n",
    "Data columns (total 24 columns):\n",
    " #   Column     Non-Null Count  Dtype  \n",
    "---  ------     --------------  -----  \n",
    " 0   LIMIT_BAL  30000 non-null  int64  \n",
    " 1   SEX        30000 non-null  object \n",
    " 2   EDUCATION  30000 non-null  object \n",
    " 3   MARRIAGE   30000 non-null  object \n",
    " 4   AGE        30000 non-null  int64  \n",
    " 5   PAY_0      30000 non-null  float64\n",
    " 6   PAY_2      30000 non-null  float64\n",
    " 7   PAY_3      30000 non-null  float64\n",
    " 8   PAY_4      30000 non-null  float64\n",
    " 9   PAY_5      30000 non-null  float64\n",
    " 10  PAY_6      30000 non-null  float64\n",
    " 11  BILL_AMT1  30000 non-null  float64\n",
    " 12  BILL_AMT2  30000 non-null  float64\n",
    " 13  BILL_AMT3  30000 non-null  float64\n",
    " 14  BILL_AMT4  30000 non-null  float64\n",
    " 15  BILL_AMT5  30000 non-null  float64\n",
    " 16  BILL_AMT6  30000 non-null  float64\n",
    " 17  PAY_AMT1   30000 non-null  float64\n",
    " 18  PAY_AMT2   30000 non-null  float64\n",
    " 19  PAY_AMT3   30000 non-null  float64\n",
    " 20  PAY_AMT4   30000 non-null  float64\n",
    " 21  PAY_AMT5   30000 non-null  float64\n",
    " 22  PAY_AMT6   30000 non-null  float64\n",
    " 23  default    30000 non-null  object \n",
    "dtypes: float64(18), int64(2), object(4)\n",
    "memory usage: 5.5+ MB\n",
    "```\n",
    "\n",
    "</details>"
   ]
  },
  {
   "cell_type": "code",
   "execution_count": null,
   "metadata": {},
   "outputs": [],
   "source": [
    "df.info()"
   ]
  },
  {
   "cell_type": "markdown",
   "metadata": {},
   "source": [
    "## **2. Remove variables with High Variable Correlation**"
   ]
  },
  {
   "cell_type": "markdown",
   "metadata": {},
   "source": [
    "Calculate the correlation of the numerical columns.\n",
    "$$\n",
    "\\rho_{X,Y} = \\frac{\\text{cov}(X, Y)}{\\sigma_X \\sigma_Y}\n",
    "$$\n",
    "\n"
   ]
  },
  {
   "cell_type": "markdown",
   "metadata": {},
   "source": [
    "<details>\n",
    "\n",
    "<summary>\n",
    "<font size=\"3\" color=\"green\">\n",
    "<b>Hints</b>\n",
    "</font>\n",
    "</summary>\n",
    "\n",
    "- Retrieve the numerical columns first, and then calculate the correlation.\n",
    "- `.corr()`\n",
    "</details>"
   ]
  },
  {
   "cell_type": "code",
   "execution_count": null,
   "metadata": {},
   "outputs": [],
   "source": [
    "### START CODE HERE ###\n",
    "\n",
    "correlation_matrix = None\n",
    "\n",
    "### END CODE HERE ###"
   ]
  },
  {
   "attachments": {
    "image.png": {
     "image/png": "[encoded data removed]"
    }
   },
   "cell_type": "markdown",
   "metadata": {},
   "source": [
    "<details>\n",
    "\n",
    "<summary>\n",
    "<font size=\"3\" color=\"orange\">\n",
    "<b>Expected output</b>\n",
    "</font>\n",
    "</summary>\n",
    "\n",
    "- The output should resemble this, but not be identical, depending on your `.fillna()` method.</br>\n",
    "\n",
    "![image.png](attachment:image.png)\n",
    "</details>"
   ]
  },
  {
   "cell_type": "code",
   "execution_count": null,
   "metadata": {},
   "outputs": [],
   "source": [
    "sns.heatmap(correlation_matrix)"
   ]
  },
  {
   "cell_type": "markdown",
   "metadata": {},
   "source": [
    "Extract the lower triangular part of the correlation matrix.\n",
    "<details>\n",
    "<summary>\n",
    "<font size=\"3\" color=\"green\">\n",
    "<b>Hints</b>\n",
    "</font>\n",
    "</summary>\n",
    "\n",
    "- `np.tril()` migth be useful here.\n",
    "</details>"
   ]
  },
  {
   "cell_type": "code",
   "execution_count": null,
   "metadata": {},
   "outputs": [],
   "source": [
    "### START CODE HERE ###\n",
    "lower = None\n",
    "### END CODE HERE ###"
   ]
  },
  {
   "attachments": {
    "image.png": {
     "image/png": "[encoded data removed]"
    }
   },
   "cell_type": "markdown",
   "metadata": {},
   "source": [
    "<details>\n",
    "\n",
    "<summary>\n",
    "<font size=\"3\" color=\"orange\">\n",
    "<b>Expected output</b>\n",
    "</font>\n",
    "</summary>\n",
    "\n",
    "- The output should resemble this, but not be identical, depending on your `.fillna()` method.</br>\n",
    "\n",
    "![image.png](attachment:image.png)\n",
    "</details>"
   ]
  },
  {
   "cell_type": "code",
   "execution_count": null,
   "metadata": {},
   "outputs": [],
   "source": [
    "sns.heatmap(lower)"
   ]
  },
  {
   "cell_type": "markdown",
   "metadata": {},
   "source": [
    "Drop the input variables (columns) that have high correlation (too similar) > 0.6.\n",
    "(high correlation = large similarity)"
   ]
  },
  {
   "cell_type": "code",
   "execution_count": null,
   "metadata": {},
   "outputs": [],
   "source": [
    "### START CODE HERE ###\n",
    "to_drop = None\n",
    "df.drop(None)\n",
    "### END CODE HERE ###"
   ]
  },
  {
   "cell_type": "markdown",
   "metadata": {},
   "source": [
    "<details>\n",
    "\n",
    "<summary>\n",
    "<font size=\"3\" color=\"orange\">\n",
    "<b>Expected output</b>\n",
    "</font>\n",
    "</summary>\n",
    "\n",
    "- The output should resemble this, but not be identical, depending on your `.fillna()` method.</br>\n",
    "\n",
    "|             | LIMIT_BAL | AGE   | PAY_6 | BILL_AMT6 | PAY_AMT1 | PAY_AMT2 | PAY_AMT3 | PAY_AMT4 | PAY_AMT5 | PAY_AMT6 |\n",
    "|-------------|-----------|-------|-------|-----------|----------|----------|----------|----------|----------|----------|\n",
    "| count       | 30000.0   | 30000 | 30000 | 30000.0   | 30000    | 30000    | 30000    | 30000    | 30000    | 30000    |\n",
    "| mean        | 167484.32 | 35.49 | -0.29 | 39693.41  | 5817.55  | 6086.10  | 5387.49  | 4985.62  | 4972.94  | 5409.71  |\n",
    "| std         | 129747.66 | 9.22  | 1.15  | 59285.34  | 16536.93 | 23019.67 | 17582.93 | 15641.57 | 15251.02 | 17748.95 |\n",
    "| min         | 10000.0   | 21    | -2.0  | -339603.0 | 0        | 0        | 0        | 0        | 0        | 0        |\n",
    "| 25%         | 50000.0   | 28    | -1.0  | 1760.0    | 1125.0   | 1000.0   | 614.75   | 416.0    | 412.0    | 389.0    |\n",
    "| 50%         | 140000.0  | 34    | 0.0   | 18480.5   | 2400.0   | 2200.5   | 2000.0   | 1770.5   | 1880.0   | 1800.0   |\n",
    "| 75%         | 240000.0  | 41    | 0.0   | 49198.25  | 5700.0   | 5433.0   | 5000.0   | 4985.62  | 4972.94  | 5000.0   |\n",
    "| max         | 1000000.0 | 79    | 8.0   | 961664.0  | 873552.0 | 1684259.0| 896040.0 | 621000.0 | 426529.0 | 528666.0 |\n",
    "\n",
    "</details>"
   ]
  },
  {
   "cell_type": "code",
   "execution_count": null,
   "metadata": {},
   "outputs": [],
   "source": [
    "df.describe()"
   ]
  },
  {
   "cell_type": "markdown",
   "metadata": {},
   "source": [
    "## **3. Remove Variables with High p-values from Chi-square**"
   ]
  },
  {
   "cell_type": "markdown",
   "metadata": {},
   "source": [
    "Data Exploration, Cleansing, and Transform\n",
    "1. List of variation in each column (`.unique()`)\n",
    "2. Replace '0' and NaN\n",
    "3. Explore data statistics"
   ]
  },
  {
   "cell_type": "code",
   "execution_count": null,
   "metadata": {},
   "outputs": [],
   "source": [
    "### START CODE HERE ###\n",
    "\n",
    "non_numeric_columns = None\n",
    "\n",
    "\n",
    "\n",
    "### END CODE HERE ###"
   ]
  },
  {
   "cell_type": "markdown",
   "metadata": {},
   "source": [
    "Label encoding the string columns.\n",
    "<details>\n",
    "\n",
    "<summary>\n",
    "<font size=\"3\" color=\"green\">\n",
    "<b>Hints</b>\n",
    "</font>\n",
    "</summary>\n",
    "\n",
    "- Scikitlearn's `preprocessing` migth be useful here.</br>\n",
    "https://scikit-learn.org/stable/modules/preprocessing.html\n",
    "</details> "
   ]
  },
  {
   "cell_type": "code",
   "execution_count": null,
   "metadata": {},
   "outputs": [],
   "source": [
    "### START CODE HERE ###\n",
    "\n",
    "\n",
    "\n",
    "\n",
    "\n",
    "### END CODE HERE ###"
   ]
  },
  {
   "cell_type": "markdown",
   "metadata": {},
   "source": [
    "<details>\n",
    "\n",
    "<summary>\n",
    "<font size=\"3\" color=\"orange\">\n",
    "<b>Expected output</b>\n",
    "</font>\n",
    "</summary>\n",
    "\n",
    "```RangeIndex: 30000 entries, 0 to 29999\n",
    "Data columns (total 14 columns):\n",
    " #   Column     Non-Null Count  Dtype  \n",
    "---  ------     --------------  -----  \n",
    " 0   LIMIT_BAL  30000 non-null  int64  \n",
    " 1   SEX        30000 non-null  int64  \n",
    " 2   EDUCATION  30000 non-null  int64  \n",
    " 3   MARRIAGE   30000 non-null  int64  \n",
    " 4   AGE        30000 non-null  int64  \n",
    " 5   PAY_6      30000 non-null  float64\n",
    " 6   BILL_AMT6  30000 non-null  float64\n",
    " 7   PAY_AMT1   30000 non-null  float64\n",
    " 8   PAY_AMT2   30000 non-null  float64\n",
    " 9   PAY_AMT3   30000 non-null  float64\n",
    " 10  PAY_AMT4   30000 non-null  float64\n",
    " 11  PAY_AMT5   30000 non-null  float64\n",
    " 12  PAY_AMT6   30000 non-null  float64\n",
    " 13  default    30000 non-null  int64  \n",
    "dtypes: float64(8), int64(6)\n",
    "memory usage: 3.2 MB\n",
    "```\n",
    "\n",
    "</details>"
   ]
  },
  {
   "cell_type": "code",
   "execution_count": null,
   "metadata": {},
   "outputs": [],
   "source": [
    "df.info()"
   ]
  },
  {
   "cell_type": "markdown",
   "metadata": {},
   "source": [
    "### **Calcualte Chi-Square and P-value**\n",
    "$$\n",
    "\\chi^2 = \\sum \\frac{(O_i - E_i)^2}{E_i}\n",
    "$$\n",
    "$$\n",
    "\\text{p-value} = P(\\chi^2 \\mid \\text{degrees of freedom})\n",
    "$$\n",
    "\n",
    "Show the output in the DataFrame where the output is `default `.\n",
    "\n",
    "<details>\n",
    "\n",
    "<summary>\n",
    "<font size=\"3\" color=\"orange\">\n",
    "<b>Expected output</b>\n",
    "</font>\n",
    "</summary>\n",
    "\n",
    "</br>\n",
    "\n",
    "| Feature    | Chi2 Statistic | P-Value      |\n",
    "|------------|----------------|--------------|\n",
    "| SEX        | 28.922107      | 7.534804e-08 |\n",
    "| EDUCATION  | 41.628348      | 1.103811e-10 |\n",
    "| MARRIAGE   | 2.646896       | 1.037523e-01 |\n",
    "\n",
    "</details>"
   ]
  },
  {
   "cell_type": "code",
   "execution_count": null,
   "metadata": {},
   "outputs": [],
   "source": [
    "### START CODE HERE ###\n",
    "output = None\n",
    "variable = None\n",
    "\n",
    "chi2_stat, p_values = chi2(None)\n",
    "chi2_table = pd.DataFrame({\n",
    "    \"Feature\": None\n",
    "    \"Chi2 Statistic\": None\n",
    "    \"P-Value\": None\n",
    "})\n",
    "### END CODE HERE ###\n",
    "chi2_table"
   ]
  },
  {
   "cell_type": "markdown",
   "metadata": {},
   "source": [
    "Drop the columns where `p-value` is more than 0.05."
   ]
  },
  {
   "cell_type": "code",
   "execution_count": null,
   "metadata": {},
   "outputs": [],
   "source": [
    "### START CODE HERE ###\n",
    "to_drop = None\n",
    "print(\"to_drop :\",to_drop)\n",
    "df.drop(None)\n",
    "### END CODE HERE ###"
   ]
  },
  {
   "cell_type": "markdown",
   "metadata": {},
   "source": [
    "## Visualize the final version of DataFrame"
   ]
  },
  {
   "cell_type": "markdown",
   "metadata": {},
   "source": [
    "<details>\n",
    "\n",
    "<summary>\n",
    "<font size=\"3\" color=\"orange\">\n",
    "<b>Expected output</b>\n",
    "</font>\n",
    "</summary>\n",
    "\n",
    "\n",
    "- The output should resemble this, but not be identical, depending on your `.fillna()` method.</br>\n",
    "</br>\n",
    "\n",
    "| LIMIT_BAL | SEX | EDUCATION | AGE | PAY_6 | BILL_AMT6 | PAY_AMT1 | PAY_AMT2 | PAY_AMT3 | PAY_AMT4 | PAY_AMT5 | PAY_AMT6 | default |\n",
    "|-----------|-----|-----------|-----|-------|-----------|----------|----------|----------|----------|----------|----------|---------|\n",
    "| 20000     | 0   | 3         | 24  | -2.0  | 39693.41  | 5817.55  | 689.0    | 0.0      | 0.0      | 0.0      | 0.0      | 1       |\n",
    "| 120000    | 0   | 3         | 26  | 2.0   | 3261.0    | 0.0      | 1000.0   | 1000.0   | 1000.0   | 4972.94  | 2000.0   | 1       |\n",
    "| 90000     | 0   | 3         | 34  | 0.0   | 15549.0   | 1518.0   | 1500.0   | 1000.0   | 1000.0   | 1000.0   | 5000.0   | 0       |\n",
    "| 50000     | 0   | 3         | 37  | 0.0   | 29547.0   | 2000.0   | 2019.0   | 1200.0   | 1100.0   | 1069.0   | 1000.0   | 0       |\n",
    "| 50000     | 1   | 3         | 57  | 0.0   | 19131.0   | 2000.0   | 36681.0  | 10000.0  | 9000.0   | 689.0    | 679.0    | 0       |\n",
    "| ...       | ... | ...       | ... | ...   | ...       | ...      | ...      | ...      | ...      | ...      | ...      | ...     |\n",
    "| 220000    | 1   | 1         | 39  | 0.0   | 15980.0   | 8500.0   | 20000.0  | 5003.0   | 3047.0   | 5000.0   | 1000.0   | 0       |\n",
    "| 150000    | 1   | 1         | 43  | 0.0   | 0.0       | 1837.0   | 3526.0   | 8998.0   | 129.0    | 0.0      | 5409.71  | 0       |\n",
    "| 30000     | 1   | 3         | 37  | 0.0   | 19357.0   | 0.0      | 0.0      | 22000.0  | 4200.0   | 2000.0   | 3100.0   | 1       |\n",
    "| 80000     | 1   | 1         | 41  | -1.0  | 48944.0   | 85900.0  | 3409.0   | 1178.0   | 1926.0   | 52964.0  | 1804.0   | 1       |\n",
    "| 50000     | 1   | 3         | 46  | 0.0   | 15313.0   | 2078.0   | 1800.0   | 1430.0   | 1000.0   | 1000.0   | 1000.0   | 1       |\n",
    "\n",
    "\n",
    "</details>"
   ]
  },
  {
   "cell_type": "code",
   "execution_count": null,
   "metadata": {},
   "outputs": [],
   "source": [
    "df"
   ]
  }
 ],
 "metadata": {
  "kernelspec": {
   "display_name": "pytorch",
   "language": "python",
   "name": "python3"
  },
  "language_info": {
   "codemirror_mode": {
    "name": "ipython",
    "version": 3
   },
   "file_extension": ".py",
   "mimetype": "text/x-python",
   "name": "python",
   "nbconvert_exporter": "python",
   "pygments_lexer": "ipython3",
   "version": "3.10.13"
  }
 },
 "nbformat": 4,
 "nbformat_minor": 2
}
